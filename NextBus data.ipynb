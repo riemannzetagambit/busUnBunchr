{
 "cells": [
  {
   "cell_type": "markdown",
   "metadata": {},
   "source": [
    "## Load up our libraries"
   ]
  },
  {
   "cell_type": "code",
   "execution_count": 44,
   "metadata": {
    "collapsed": false
   },
   "outputs": [],
   "source": [
    "from sqlalchemy import create_engine\n",
    "from sqlalchemy_utils import database_exists, create_database\n",
    "import datetime, geoplotlib, psycopg2, re\n",
    "from geoplotlib.utils import BoundingBox\n",
    "from IPython.display import Image\n",
    "import pandas as pd\n",
    "import numpy as np\n",
    "import matplotlib.pyplot as plt\n",
    "%matplotlib inline\n",
    "from math import radians, cos, sin, asin, sqrt"
   ]
  },
  {
   "cell_type": "code",
   "execution_count": 2,
   "metadata": {
    "collapsed": false
   },
   "outputs": [],
   "source": [
    "# We will need this function to compute the distance between two (lat,lon) points, in meters\n",
    "def haversine(lon1, lat1, lon2, lat2):\n",
    "    \"\"\"\n",
    "    Calculate the great circle distance between two points \n",
    "    on the earth (specified in decimal degrees)\n",
    "    \"\"\"\n",
    "    # convert decimal degrees to radians \n",
    "    lon1, lat1, lon2, lat2 = map(radians, [lon1, lat1, lon2, lat2])\n",
    "    # haversine formula \n",
    "    dlon = lon2 - lon1 \n",
    "    dlat = lat2 - lat1 \n",
    "    a = sin(dlat/2)**2 + cos(lat1) * cos(lat2) * sin(dlon/2)**2\n",
    "    c = 2 * asin(sqrt(a)) \n",
    "    meters = 6367 * c * 1000\n",
    "    return meters"
   ]
  },
  {
   "cell_type": "markdown",
   "metadata": {},
   "source": [
    "## Loading data from PostgreSQL database I've built"
   ]
  },
  {
   "cell_type": "markdown",
   "metadata": {},
   "source": [
    "We need to connect to the PostgresSQL database that I am reading the NextBus Muni data into, which is called 'sf_muni_arrivals' in our case"
   ]
  },
  {
   "cell_type": "code",
   "execution_count": null,
   "metadata": {
    "collapsed": true
   },
   "outputs": [],
   "source": [
    "dbname = 'sf_muni_arrivals'\n",
    "username = 'dstone'\n",
    "\n",
    "# Open up an engine, that we will use to create the database if it doesn't exist\n",
    "engine = create_engine('postgres://%s@localhost/%s'%(username,dbname))\n",
    "\n",
    "if not database_exists(engine.url):\n",
    "    create_database(engine.url)"
   ]
  },
  {
   "cell_type": "markdown",
   "metadata": {
    "collapsed": false
   },
   "source": [
    "The following command loads the ENTIRE SQL database from above into a pandas dataframe. In the future, I will want to sort the data first with SQL commands, then load it into a pandas dataframe. I can do that with the commented out text."
   ]
  },
  {
   "cell_type": "code",
   "execution_count": null,
   "metadata": {
    "collapsed": false
   },
   "outputs": [],
   "source": [
    "# If I want to filter the data first:\n",
    "# connect:\n",
    "db_con = None\n",
    "db_con = psycopg2.connect(database = dbname, user = username)\n",
    "# the table name is 'nextbus':\n",
    "sql_query = \"\"\"\n",
    "SELECT * FROM nextbus;\n",
    "\"\"\"\n",
    "df = pd.read_sql_query(sql_query,db_con)"
   ]
  },
  {
   "cell_type": "markdown",
   "metadata": {},
   "source": [
    "Let's first just get some geographical data from the inbound 30-Stockton route"
   ]
  },
  {
   "cell_type": "code",
   "execution_count": null,
   "metadata": {
    "collapsed": false
   },
   "outputs": [],
   "source": [
    "#df.direction.str.contains('I')\n",
    "route30inbound = df[(df.route == '30') & (df.direction.isnull() == False) & (df.direction.str.contains('I'))]"
   ]
  },
  {
   "cell_type": "code",
   "execution_count": null,
   "metadata": {
    "collapsed": false
   },
   "outputs": [],
   "source": [
    "# Let's look at the route 30 positions of this one bus over the last few minutes\n",
    "route30posits = geoplotlib.utils.DataAccessObject(route30inbound[route30inbound.vehicle == 5489][['lat','lon']])\n",
    "geoplotlib.tiles_provider('positron')\n",
    "geoplotlib.kde(route30posits, bw=3, cut_below=1e-3, cmap='GnBu')\n",
    "geoplotlib.set_bbox(BoundingBox(north=37.795,west=-122.47,south=37.685782,east=-122.35))\n",
    "geoplotlib.inline(800)\n",
    "geoplotlib.savefig('inbound_route_30_bus_5489')\n",
    "\n",
    "# Show the image\n",
    "Image('inbound_route_30_bus_5489')"
   ]
  },
  {
   "cell_type": "code",
   "execution_count": null,
   "metadata": {
    "collapsed": false
   },
   "outputs": [],
   "source": [
    "# Let's look at the route 30 positions of this one bus over the last few minutes\n",
    "bus1457posits = geoplotlib.utils.DataAccessObject(df[df.vehicle == 1457][['lat','lon']])\n",
    "geoplotlib.tiles_provider('positron')\n",
    "geoplotlib.kde(bus1457posits, bw=3, cut_below=1e-3, cmap='GnBu')\n",
    "geoplotlib.set_bbox(BoundingBox(north=37.795,west=-122.47,south=37.685782,east=-122.35))\n",
    "geoplotlib.inline(800)\n",
    "geoplotlib.savefig('bus_1457_posits')\n",
    "\n",
    "# Show the image\n",
    "Image('bus_1457_posits')\n",
    "\n",
    "# This is the N-Judah line"
   ]
  },
  {
   "cell_type": "markdown",
   "metadata": {},
   "source": [
    "So right now I just want to match time stamps based on the minute they were clocked. Otherwise we can't compare two buses on the same route. So the goal here is to remake the time column into only the day, hour, minute. Use p.to_datetime on the SQL-provided timestamps, and then drop the seconds.\n",
    "\n",
    "To make this problem tractable, and get a data plot in the next 2 hours, we will just look at the INBOUND N Judah line"
   ]
  },
  {
   "cell_type": "code",
   "execution_count": null,
   "metadata": {
    "collapsed": false
   },
   "outputs": [],
   "source": [
    "routeN = df[(df.route == 'N') & (df.direction.str.contains('I'))]\n",
    "routeN['time_tmp'] = routeN.apply(lambda row: datetime.datetime(pd.to_datetime(row['time']).year, \n",
    "                                                                   pd.to_datetime(row['time']).month, \n",
    "                                                                   pd.to_datetime(row['time']).day, \n",
    "                                                                   pd.to_datetime(row['time']).hour, \n",
    "                                                                   pd.to_datetime(row['time']).minute), axis=1)\n",
    "routeN.index = routeN.time_tmp\n",
    "vehicleNumsRouteN = pd.unique(routeN.vehicle.ravel())"
   ]
  },
  {
   "cell_type": "markdown",
   "metadata": {},
   "source": [
    "Fuck it, for now just do this stupid shit manually"
   ]
  },
  {
   "cell_type": "code",
   "execution_count": null,
   "metadata": {
    "collapsed": false
   },
   "outputs": [],
   "source": [
    "vehicle0 = routeN[routeN.vehicle == vehicleNumsRouteN[0]][['time_tmp','lat','lon']]\n",
    "vehicle0.drop_duplicates(subset='time_tmp', inplace=True)\n",
    "vehicle0.columns = ['time_0','lat_0','lon_0']\n",
    "#tmp0.index = tmp0.time0\n",
    "\n",
    "# This is ridiculously memory inefficient\n",
    "for i in np.arange(1,10):\n",
    "    tmpvar = 'tmp' + str(i)\n",
    "    tmpvar = routeN[routeN.vehicle == vehicleNumsRouteN[i]][['time_tmp','lat','lon']]\n",
    "    tmpvar.drop_duplicates(subset='time_tmp', inplace=True)\n",
    "    tmpvar.columns = ['time_'+str(i),'lat_'+str(i),'lon_'+str(i)]\n",
    "    vehicle0[['time_'+str(i),'lat_'+str(i),'lon_'+str(i)]] = tmpvar[['time_'+str(i),'lat_'+str(i),'lon_'+str(i)]]\n",
    "    vehicle0['dist0_'+str(i)] = vehicle0.apply(lambda row: haversine(row['lat_0'], row['lon_0'], row['lat_'+str(i)], row['lon_'+str(i)]), axis=1)"
   ]
  },
  {
   "cell_type": "code",
   "execution_count": null,
   "metadata": {
    "collapsed": false
   },
   "outputs": [],
   "source": [
    "#tmp0[tmp0.time1.isnull() == False]\n",
    "vehicle0[vehicle0.dist0_3.isnull() == False].dist0_3.plot(kind='line')"
   ]
  },
  {
   "cell_type": "code",
   "execution_count": null,
   "metadata": {
    "collapsed": false
   },
   "outputs": [],
   "source": [
    "my_dict = {}\n",
    "for i in range(1,10):\n",
    "    my_key = \"bin0_\"+str(i)\n",
    "    if my_key not in my_dict:\n",
    "        my_dict[my_key] = 0"
   ]
  },
  {
   "cell_type": "code",
   "execution_count": null,
   "metadata": {
    "collapsed": false
   },
   "outputs": [],
   "source": [
    "for i in np.arange(1,10):\n",
    "    distTemp = 'dist0_'+str(i)\n",
    "    distTempPts = 'dist0_'+str(i)+'_pts'\n",
    "    distTempPts = np.asarray(vehicle0[vehicle0[distTemp].isnull() == False][distTemp])\n",
    "    maxTemp = 'max0_'+str(i)\n",
    "    minTemp = 'min0_'+str(i)\n",
    "    minTemp = min(distTempPts)\n",
    "    maxTemp = max(distTempPts)\n",
    "    stepTemp = 'step0_'+str(i)\n",
    "    stepTemp = (maxTemp - minTemp)/(2*np.sqrt(len(distTempPts)))\n",
    "    binsTemp = 'bin0_'+str(i)\n",
    "    my_dict[binsTemp] = np.arange(minTemp, maxTemp, stepTemp)"
   ]
  },
  {
   "cell_type": "code",
   "execution_count": null,
   "metadata": {
    "collapsed": false
   },
   "outputs": [],
   "source": [
    "np.arange(1,3)"
   ]
  },
  {
   "cell_type": "code",
   "execution_count": null,
   "metadata": {
    "collapsed": false
   },
   "outputs": [],
   "source": [
    "f, a = plt.subplots()\n",
    "f.set_size_inches(20,14)\n",
    "\n",
    "for i in np.arange(1,4):\n",
    "    distTemp = 'dist0_'+str(i)\n",
    "    binsTemp = 'bin0_'+str(i)\n",
    "    plot = a.hist(np.asarray(vehicle0[vehicle0[distTemp].isnull() == False][distTemp]), bins=my_dict[binsTemp], color=str(0.1+0.9*i/10), alpha=0.75)\n",
    "a.set_xlabel('Distance from the N-Judah vehicle 1434')\n",
    "a.set_ylabel('Effective amount of time spent at that distance')\n",
    "#a.legend(('v[1]','v[2]','v[3]','v[4]','v[5]','v[6]','v[7]','v[8]','v[9]','v[10]'), loc=(0.8,0.5))\n",
    "a.legend(('v[1]','v[2]','v[3]'), loc=(0.8,0.5))\n",
    "f.savefig('collection_of_histograms_N_Judah_vehicles.eps')"
   ]
  },
  {
   "cell_type": "code",
   "execution_count": null,
   "metadata": {
    "collapsed": true
   },
   "outputs": [],
   "source": [
    "vehicle0[['dist0_1','dist0_2']].plot(kind='line')"
   ]
  },
  {
   "cell_type": "code",
   "execution_count": null,
   "metadata": {
    "collapsed": true
   },
   "outputs": [],
   "source": [
    "my_dict = {}\n",
    "for i in range(10):\n",
    "    my_key = \"lat_\"+str(i)\n",
    "    if my_key not in my_dict:\n",
    "        my_dict[my_key] = i\n",
    "for k, v in my_dict.iteritems():\n",
    "    print k, v"
   ]
  },
  {
   "cell_type": "markdown",
   "metadata": {},
   "source": [
    "## Loading data from NextBus-provided SQL query"
   ]
  },
  {
   "cell_type": "markdown",
   "metadata": {
    "collapsed": true
   },
   "source": [
    "Some clean up of this data: drop first row, REMOVE ALL WHITESPACES IN FILE, rename columns so they are free of whitespaces, get GPS coordinates separately"
   ]
  },
  {
   "cell_type": "code",
   "execution_count": 37,
   "metadata": {
    "collapsed": false
   },
   "outputs": [],
   "source": [
    "# Open file provided by NextBus, don't overwrite it (don't ever alter raw data!)\n",
    "with open('nextbus_one_day_sf_muni_dump.csv','r') as oldname:\n",
    "    data = oldname.readlines()\n",
    "oldname.close()\n",
    "\n",
    "# replace all whitespaces in file\n",
    "for i, line in enumerate(data,0):\n",
    "    data[i] = line.replace(' ','')\n",
    "\n",
    "# Open new file to write un-whitespaced data to and close it\n",
    "with open('nextbus_one_day_sf_muni_dump_edited.csv','w') as newfile:\n",
    "    newfile.writelines(data)\n",
    "newfile.close()"
   ]
  },
  {
   "cell_type": "markdown",
   "metadata": {},
   "source": [
    "Now read in cleaned-up file into a dataframe, and drop the first row (which is some formatted '---' line from a SQL query), the last row (which has some NaNs as well, again from the SQL output about the number of rows)"
   ]
  },
  {
   "cell_type": "code",
   "execution_count": 112,
   "metadata": {
    "collapsed": false
   },
   "outputs": [],
   "source": [
    "nbdata = pd.read_csv('nextbus_one_day_sf_muni_dump_edited.csv',sep='|')\n",
    "nbdata.drop(nbdata.index[0], inplace=True)\n",
    "nbdata.drop(nbdata.index[-1], inplace=True)"
   ]
  },
  {
   "cell_type": "markdown",
   "metadata": {},
   "source": [
    "Next we redefine the lat, lon coordinates into separate columns, and drop the old 'gpsfix' column"
   ]
  },
  {
   "cell_type": "code",
   "execution_count": 106,
   "metadata": {
    "collapsed": true
   },
   "outputs": [],
   "source": [
    "def get_coord(gps, token):\n",
    "    m = re.search(r'\\((.*?),(.*?)\\)', gps)\n",
    "    return m.group(token)\n",
    "\n",
    "nbdata['lat'] = nbdata.apply(lambda row: get_coord(row['gpsfix'],1), axis=1)\n",
    "nbdata['lon'] = nbdata.apply(lambda row: get_coord(row['gpsfix'],2), axis=1)\n",
    "nbdata.lat = nbdata.lat.astype(float)\n",
    "nbdata.lon = nbdata.lon.astype(float)\n",
    "\n",
    "nbdata.drop(['gpsfix'], inplace=True, axis=1)"
   ]
  },
  {
   "cell_type": "markdown",
   "metadata": {},
   "source": [
    "Finally, we reinterpret the times and coarse-grain to the minute (LATER: do to the half-minute)"
   ]
  },
  {
   "cell_type": "code",
   "execution_count": null,
   "metadata": {
    "collapsed": true
   },
   "outputs": [],
   "source": []
  },
  {
   "cell_type": "markdown",
   "metadata": {},
   "source": [
    "### First let's only look at the N-Judah inbound data\n",
    "Later we can produce distributions of all routes, inbound and outbound.\n",
    "\n",
    "The goal right now is to produce a distance distribution between each SUBSEQUENT train. So the first task is to figure out how we know two trains are subsequent.\n",
    "\n",
    "With the data from NextBus there is no inbound/outbound identifier, so we will have to go from the trip number"
   ]
  },
  {
   "cell_type": "code",
   "execution_count": 148,
   "metadata": {
    "collapsed": true
   },
   "outputs": [],
   "source": [
    "njudah = nbdata[(nbdata.route == 'N')]\n",
    "njudah.columns = ['vehicle','received_time','gps_time','speed','heading','route','trip','lat','lon']"
   ]
  },
  {
   "cell_type": "code",
   "execution_count": 149,
   "metadata": {
    "collapsed": false
   },
   "outputs": [],
   "source": [
    "vehiclesN = pd.unique(njudah.vehicle.ravel())"
   ]
  },
  {
   "cell_type": "code",
   "execution_count": 150,
   "metadata": {
    "collapsed": false
   },
   "outputs": [],
   "source": [
    "trips_in_order = np.sort(pd.unique(njudah.trip.ravel()))"
   ]
  },
  {
   "cell_type": "markdown",
   "metadata": {},
   "source": [
    "Let's just see if two subsequent trips (as identified by the precursor above) give a reasonable distance distribution"
   ]
  },
  {
   "cell_type": "code",
   "execution_count": 155,
   "metadata": {
    "collapsed": false
   },
   "outputs": [
    {
     "data": {
      "text/html": [
       "<div>\n",
       "<table border=\"1\" class=\"dataframe\">\n",
       "  <thead>\n",
       "    <tr style=\"text-align: right;\">\n",
       "      <th></th>\n",
       "      <th>vehicle</th>\n",
       "      <th>received_time</th>\n",
       "      <th>gps_time</th>\n",
       "      <th>speed</th>\n",
       "      <th>heading</th>\n",
       "      <th>route</th>\n",
       "      <th>trip</th>\n",
       "      <th>lat</th>\n",
       "      <th>lon</th>\n",
       "    </tr>\n",
       "  </thead>\n",
       "  <tbody>\n",
       "    <tr>\n",
       "      <th>177271</th>\n",
       "      <td>1520</td>\n",
       "      <td>2016-01-1405:42:50.131-08</td>\n",
       "      <td>2016-01-1405:42:48-08</td>\n",
       "      <td>4.44444</td>\n",
       "      <td>266</td>\n",
       "      <td>N</td>\n",
       "      <td>6724977</td>\n",
       "      <td>37.76071</td>\n",
       "      <td>-122.50002</td>\n",
       "    </tr>\n",
       "    <tr>\n",
       "      <th>177688</th>\n",
       "      <td>1520</td>\n",
       "      <td>2016-01-1405:43:21.122-08</td>\n",
       "      <td>2016-01-1405:43:19-08</td>\n",
       "      <td>5.00000</td>\n",
       "      <td>267</td>\n",
       "      <td>N</td>\n",
       "      <td>6724977</td>\n",
       "      <td>37.76061</td>\n",
       "      <td>-122.50219</td>\n",
       "    </tr>\n",
       "    <tr>\n",
       "      <th>178054</th>\n",
       "      <td>1520</td>\n",
       "      <td>2016-01-1405:43:50.024-08</td>\n",
       "      <td>2016-01-1405:43:48-08</td>\n",
       "      <td>6.94444</td>\n",
       "      <td>266</td>\n",
       "      <td>N</td>\n",
       "      <td>6724977</td>\n",
       "      <td>37.76051</td>\n",
       "      <td>-122.50442</td>\n",
       "    </tr>\n",
       "    <tr>\n",
       "      <th>178339</th>\n",
       "      <td>1520</td>\n",
       "      <td>2016-01-1405:44:10.055-08</td>\n",
       "      <td>2016-01-1405:44:07-08</td>\n",
       "      <td>0.00000</td>\n",
       "      <td>267</td>\n",
       "      <td>N</td>\n",
       "      <td>6724977</td>\n",
       "      <td>37.76046</td>\n",
       "      <td>-122.50552</td>\n",
       "    </tr>\n",
       "    <tr>\n",
       "      <th>178695</th>\n",
       "      <td>1520</td>\n",
       "      <td>2016-01-1405:44:34.089-08</td>\n",
       "      <td>2016-01-1405:44:32-08</td>\n",
       "      <td>6.94444</td>\n",
       "      <td>266</td>\n",
       "      <td>N</td>\n",
       "      <td>6724977</td>\n",
       "      <td>37.76041</td>\n",
       "      <td>-122.50665</td>\n",
       "    </tr>\n",
       "    <tr>\n",
       "      <th>179651</th>\n",
       "      <td>1520</td>\n",
       "      <td>2016-01-1405:45:39.561-08</td>\n",
       "      <td>2016-01-1405:45:37-08</td>\n",
       "      <td>0.00000</td>\n",
       "      <td>265</td>\n",
       "      <td>N</td>\n",
       "      <td>6724977</td>\n",
       "      <td>37.76036</td>\n",
       "      <td>-122.50874</td>\n",
       "    </tr>\n",
       "    <tr>\n",
       "      <th>179787</th>\n",
       "      <td>1520</td>\n",
       "      <td>2016-01-1405:45:49.941-08</td>\n",
       "      <td>2016-01-1405:45:48-08</td>\n",
       "      <td>3.05556</td>\n",
       "      <td>266</td>\n",
       "      <td>N</td>\n",
       "      <td>6724977</td>\n",
       "      <td>37.76035</td>\n",
       "      <td>-122.50911</td>\n",
       "    </tr>\n",
       "    <tr>\n",
       "      <th>180876</th>\n",
       "      <td>1520</td>\n",
       "      <td>2016-01-1405:47:09.965-08</td>\n",
       "      <td>2016-01-1405:47:07-08</td>\n",
       "      <td>0.00000</td>\n",
       "      <td>196</td>\n",
       "      <td>N</td>\n",
       "      <td>6724977</td>\n",
       "      <td>37.76021</td>\n",
       "      <td>-122.50932</td>\n",
       "    </tr>\n",
       "    <tr>\n",
       "      <th>182069</th>\n",
       "      <td>1520</td>\n",
       "      <td>2016-01-1405:48:39.688-08</td>\n",
       "      <td>2016-01-1405:48:37-08</td>\n",
       "      <td>0.00000</td>\n",
       "      <td>196</td>\n",
       "      <td>N</td>\n",
       "      <td>6724977</td>\n",
       "      <td>37.76021</td>\n",
       "      <td>-122.50931</td>\n",
       "    </tr>\n",
       "    <tr>\n",
       "      <th>183313</th>\n",
       "      <td>1520</td>\n",
       "      <td>2016-01-1405:50:09.703-08</td>\n",
       "      <td>2016-01-1405:50:07-08</td>\n",
       "      <td>0.00000</td>\n",
       "      <td>196</td>\n",
       "      <td>N</td>\n",
       "      <td>6724977</td>\n",
       "      <td>37.76021</td>\n",
       "      <td>-122.50931</td>\n",
       "    </tr>\n",
       "  </tbody>\n",
       "</table>\n",
       "</div>"
      ],
      "text/plain": [
       "       vehicle              received_time               gps_time    speed  \\\n",
       "177271    1520  2016-01-1405:42:50.131-08  2016-01-1405:42:48-08  4.44444   \n",
       "177688    1520  2016-01-1405:43:21.122-08  2016-01-1405:43:19-08  5.00000   \n",
       "178054    1520  2016-01-1405:43:50.024-08  2016-01-1405:43:48-08  6.94444   \n",
       "178339    1520  2016-01-1405:44:10.055-08  2016-01-1405:44:07-08  0.00000   \n",
       "178695    1520  2016-01-1405:44:34.089-08  2016-01-1405:44:32-08  6.94444   \n",
       "179651    1520  2016-01-1405:45:39.561-08  2016-01-1405:45:37-08  0.00000   \n",
       "179787    1520  2016-01-1405:45:49.941-08  2016-01-1405:45:48-08  3.05556   \n",
       "180876    1520  2016-01-1405:47:09.965-08  2016-01-1405:47:07-08  0.00000   \n",
       "182069    1520  2016-01-1405:48:39.688-08  2016-01-1405:48:37-08  0.00000   \n",
       "183313    1520  2016-01-1405:50:09.703-08  2016-01-1405:50:07-08  0.00000   \n",
       "\n",
       "        heading route     trip       lat        lon  \n",
       "177271      266     N  6724977  37.76071 -122.50002  \n",
       "177688      267     N  6724977  37.76061 -122.50219  \n",
       "178054      266     N  6724977  37.76051 -122.50442  \n",
       "178339      267     N  6724977  37.76046 -122.50552  \n",
       "178695      266     N  6724977  37.76041 -122.50665  \n",
       "179651      265     N  6724977  37.76036 -122.50874  \n",
       "179787      266     N  6724977  37.76035 -122.50911  \n",
       "180876      196     N  6724977  37.76021 -122.50932  \n",
       "182069      196     N  6724977  37.76021 -122.50931  \n",
       "183313      196     N  6724977  37.76021 -122.50931  "
      ]
     },
     "execution_count": 155,
     "metadata": {},
     "output_type": "execute_result"
    }
   ],
   "source": [
    "# Choose only the first vehicle (there are two vehicles associated to each trip, possibly inbound and outbound?)\n",
    "njudah[(njudah.trip == trips_in_order[0]) & (njudah.vehicle == '1520')].tail(10)"
   ]
  },
  {
   "cell_type": "code",
   "execution_count": 159,
   "metadata": {
    "collapsed": false
   },
   "outputs": [
    {
     "data": {
      "text/html": [
       "<div>\n",
       "<table border=\"1\" class=\"dataframe\">\n",
       "  <thead>\n",
       "    <tr style=\"text-align: right;\">\n",
       "      <th></th>\n",
       "      <th>vehicle</th>\n",
       "      <th>received_time</th>\n",
       "      <th>gps_time</th>\n",
       "      <th>speed</th>\n",
       "      <th>heading</th>\n",
       "      <th>route</th>\n",
       "      <th>trip</th>\n",
       "      <th>lat</th>\n",
       "      <th>lon</th>\n",
       "    </tr>\n",
       "  </thead>\n",
       "  <tbody>\n",
       "    <tr>\n",
       "      <th>181170</th>\n",
       "      <td>1501</td>\n",
       "      <td>2016-01-1405:47:30.789-08</td>\n",
       "      <td>2016-01-1405:47:23-08</td>\n",
       "      <td>8.611110</td>\n",
       "      <td>266</td>\n",
       "      <td>N</td>\n",
       "      <td>6724978</td>\n",
       "      <td>37.76093</td>\n",
       "      <td>-122.49481</td>\n",
       "    </tr>\n",
       "    <tr>\n",
       "      <th>181265</th>\n",
       "      <td>1501</td>\n",
       "      <td>2016-01-1405:47:37.88-08</td>\n",
       "      <td>2016-01-1405:47:34-08</td>\n",
       "      <td>0.277778</td>\n",
       "      <td>267</td>\n",
       "      <td>N</td>\n",
       "      <td>6724978</td>\n",
       "      <td>37.76090</td>\n",
       "      <td>-122.49540</td>\n",
       "    </tr>\n",
       "    <tr>\n",
       "      <th>181791</th>\n",
       "      <td>1501</td>\n",
       "      <td>2016-01-1405:48:18.681-08</td>\n",
       "      <td>2016-01-1405:48:13-08</td>\n",
       "      <td>8.611110</td>\n",
       "      <td>266</td>\n",
       "      <td>N</td>\n",
       "      <td>6724978</td>\n",
       "      <td>37.76080</td>\n",
       "      <td>-122.49758</td>\n",
       "    </tr>\n",
       "    <tr>\n",
       "      <th>182167</th>\n",
       "      <td>1501</td>\n",
       "      <td>2016-01-1405:48:46.904-08</td>\n",
       "      <td>2016-01-1405:48:42-08</td>\n",
       "      <td>8.055560</td>\n",
       "      <td>266</td>\n",
       "      <td>N</td>\n",
       "      <td>6724978</td>\n",
       "      <td>37.76071</td>\n",
       "      <td>-122.49980</td>\n",
       "    </tr>\n",
       "    <tr>\n",
       "      <th>182315</th>\n",
       "      <td>1501</td>\n",
       "      <td>2016-01-1405:48:58.093-08</td>\n",
       "      <td>2016-01-1405:48:53-08</td>\n",
       "      <td>0.833333</td>\n",
       "      <td>266</td>\n",
       "      <td>N</td>\n",
       "      <td>6724978</td>\n",
       "      <td>37.76068</td>\n",
       "      <td>-122.50045</td>\n",
       "    </tr>\n",
       "    <tr>\n",
       "      <th>182539</th>\n",
       "      <td>1501</td>\n",
       "      <td>2016-01-1405:49:13.988-08</td>\n",
       "      <td>2016-01-1405:49:10-08</td>\n",
       "      <td>8.611110</td>\n",
       "      <td>266</td>\n",
       "      <td>N</td>\n",
       "      <td>6724978</td>\n",
       "      <td>37.76061</td>\n",
       "      <td>-122.50202</td>\n",
       "    </tr>\n",
       "    <tr>\n",
       "      <th>182913</th>\n",
       "      <td>1501</td>\n",
       "      <td>2016-01-1405:49:42.043-08</td>\n",
       "      <td>2016-01-1405:49:38-08</td>\n",
       "      <td>8.611110</td>\n",
       "      <td>266</td>\n",
       "      <td>N</td>\n",
       "      <td>6724978</td>\n",
       "      <td>37.76051</td>\n",
       "      <td>-122.50421</td>\n",
       "    </tr>\n",
       "    <tr>\n",
       "      <th>183595</th>\n",
       "      <td>1501</td>\n",
       "      <td>2016-01-1405:50:30.238-08</td>\n",
       "      <td>2016-01-1405:50:23-08</td>\n",
       "      <td>0.000000</td>\n",
       "      <td>0</td>\n",
       "      <td>N</td>\n",
       "      <td>6724978</td>\n",
       "      <td>37.76046</td>\n",
       "      <td>-122.50575</td>\n",
       "    </tr>\n",
       "    <tr>\n",
       "      <th>184947</th>\n",
       "      <td>1501</td>\n",
       "      <td>2016-01-1405:52:07.598-08</td>\n",
       "      <td>2016-01-1405:51:53-08</td>\n",
       "      <td>0.000000</td>\n",
       "      <td>0</td>\n",
       "      <td>N</td>\n",
       "      <td>6724978</td>\n",
       "      <td>37.76046</td>\n",
       "      <td>-122.50576</td>\n",
       "    </tr>\n",
       "    <tr>\n",
       "      <th>186119</th>\n",
       "      <td>1501</td>\n",
       "      <td>2016-01-1405:53:27.071-08</td>\n",
       "      <td>2016-01-1405:53:23-08</td>\n",
       "      <td>0.000000</td>\n",
       "      <td>0</td>\n",
       "      <td>N</td>\n",
       "      <td>6724978</td>\n",
       "      <td>37.76043</td>\n",
       "      <td>-122.50579</td>\n",
       "    </tr>\n",
       "  </tbody>\n",
       "</table>\n",
       "</div>"
      ],
      "text/plain": [
       "       vehicle              received_time               gps_time     speed  \\\n",
       "181170    1501  2016-01-1405:47:30.789-08  2016-01-1405:47:23-08  8.611110   \n",
       "181265    1501   2016-01-1405:47:37.88-08  2016-01-1405:47:34-08  0.277778   \n",
       "181791    1501  2016-01-1405:48:18.681-08  2016-01-1405:48:13-08  8.611110   \n",
       "182167    1501  2016-01-1405:48:46.904-08  2016-01-1405:48:42-08  8.055560   \n",
       "182315    1501  2016-01-1405:48:58.093-08  2016-01-1405:48:53-08  0.833333   \n",
       "182539    1501  2016-01-1405:49:13.988-08  2016-01-1405:49:10-08  8.611110   \n",
       "182913    1501  2016-01-1405:49:42.043-08  2016-01-1405:49:38-08  8.611110   \n",
       "183595    1501  2016-01-1405:50:30.238-08  2016-01-1405:50:23-08  0.000000   \n",
       "184947    1501  2016-01-1405:52:07.598-08  2016-01-1405:51:53-08  0.000000   \n",
       "186119    1501  2016-01-1405:53:27.071-08  2016-01-1405:53:23-08  0.000000   \n",
       "\n",
       "        heading route     trip       lat        lon  \n",
       "181170      266     N  6724978  37.76093 -122.49481  \n",
       "181265      267     N  6724978  37.76090 -122.49540  \n",
       "181791      266     N  6724978  37.76080 -122.49758  \n",
       "182167      266     N  6724978  37.76071 -122.49980  \n",
       "182315      266     N  6724978  37.76068 -122.50045  \n",
       "182539      266     N  6724978  37.76061 -122.50202  \n",
       "182913      266     N  6724978  37.76051 -122.50421  \n",
       "183595        0     N  6724978  37.76046 -122.50575  \n",
       "184947        0     N  6724978  37.76046 -122.50576  \n",
       "186119        0     N  6724978  37.76043 -122.50579  "
      ]
     },
     "execution_count": 159,
     "metadata": {},
     "output_type": "execute_result"
    }
   ],
   "source": [
    "njudah[(njudah.trip == trips_in_order[1]) & (njudah.vehicle == '1501')].tail(10)"
   ]
  },
  {
   "cell_type": "code",
   "execution_count": null,
   "metadata": {
    "collapsed": true
   },
   "outputs": [],
   "source": []
  }
 ],
 "metadata": {
  "kernelspec": {
   "display_name": "Python 2",
   "language": "python",
   "name": "python2"
  },
  "language_info": {
   "codemirror_mode": {
    "name": "ipython",
    "version": 2
   },
   "file_extension": ".py",
   "mimetype": "text/x-python",
   "name": "python",
   "nbconvert_exporter": "python",
   "pygments_lexer": "ipython2",
   "version": "2.7.10"
  }
 },
 "nbformat": 4,
 "nbformat_minor": 0
}
