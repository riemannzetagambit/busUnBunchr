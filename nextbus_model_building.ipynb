{
 "cells": [
  {
   "cell_type": "markdown",
   "metadata": {},
   "source": [
    "# Load up our libraries"
   ]
  },
  {
   "cell_type": "code",
   "execution_count": 2,
   "metadata": {
    "collapsed": false
   },
   "outputs": [],
   "source": [
    "# all purpose\n",
    "import datetime, re\n",
    "from math import radians, cos, sin, asin, sqrt\n",
    "\n",
    "# for talking to SQL databases\n",
    "import psycopg2\n",
    "from sqlalchemy import create_engine\n",
    "from sqlalchemy_utils import database_exists, create_database\n",
    "\n",
    "# json and XML parsing\n",
    "import json\n",
    "from pprint import pprint\n",
    "from urllib2 import urlopen\n",
    "from pyquery import PyQuery as pq\n",
    "\n",
    "\n",
    "# all purpose data analysis and plotting\n",
    "#from scipy import stats\n",
    "import pandas as pd\n",
    "import numpy as np\n",
    "#import matplotlib.pyplot as plt\n",
    "#%matplotlib inline\n",
    "#import seaborn as sns\n",
    "\n",
    "import pickle"
   ]
  },
  {
   "cell_type": "markdown",
   "metadata": {},
   "source": [
    "Define this function for computing distances in meters from (lat,lon) coordinates"
   ]
  },
  {
   "cell_type": "code",
   "execution_count": 3,
   "metadata": {
    "collapsed": false
   },
   "outputs": [],
   "source": [
    "# We will need this function to compute the distance between two (lat,lon) points, in meters\n",
    "def haversine(lon1, lat1, lon2, lat2):\n",
    "    \"\"\"\n",
    "    Calculate the great circle distance between two points \n",
    "    on the earth (specified in decimal degrees)\n",
    "    \"\"\"\n",
    "    # convert decimal degrees to radians \n",
    "    lon1, lat1, lon2, lat2 = map(radians, [lon1, lat1, lon2, lat2])\n",
    "    # haversine formula \n",
    "    dlon = lon2 - lon1 \n",
    "    dlat = lat2 - lat1 \n",
    "    a = sin(dlat/2)**2 + cos(lat1) * cos(lat2) * sin(dlon/2)**2\n",
    "    c = 2 * asin(sqrt(a)) \n",
    "    meters = 6367 * c * 1000\n",
    "    return meters"
   ]
  },
  {
   "cell_type": "markdown",
   "metadata": {},
   "source": [
    "## Load data from SQL database (necessary only to load Muni routes and estlabish connection to database)"
   ]
  },
  {
   "cell_type": "markdown",
   "metadata": {},
   "source": [
    "We need to connect to the PostgresSQL database that I am reading the NextBus Muni data into, which is called 'sf_muni_arrivals' in our case.\n",
    "\n",
    "**This cell must be run.**"
   ]
  },
  {
   "cell_type": "code",
   "execution_count": 4,
   "metadata": {
    "collapsed": false
   },
   "outputs": [],
   "source": [
    "# Change depending on whether I am running on AWS or local\n",
    "# dbname = 'sf_muni_arrivals'\n",
    "# username = 'dstone'\n",
    "# table = 'nextbus_write_2016_01_15'\n",
    "dbname = 'sf_muni_arrivals_aws'\n",
    "username = 'ec2-user'\n",
    "table = 'nextbus_realtime_with_predictions'\n",
    "\n",
    "# Open up an engine, that we will use to create the database if it doesn't exist\n",
    "engine = create_engine('postgres://%s@localhost/%s'%(username,dbname))\n",
    "\n",
    "if not database_exists(engine.url):\n",
    "    create_database(engine.url)\n",
    "    \n",
    "# If I want to filter the data first:\n",
    "# connect:\n",
    "db_con = None\n",
    "db_con = psycopg2.connect(database = dbname, user = username)"
   ]
  },
  {
   "cell_type": "markdown",
   "metadata": {
    "collapsed": false
   },
   "source": [
    "These commands load the entire database into a pandas dataframe. I only used this to grab the list of Muni routes. It is not necessary below."
   ]
  },
  {
   "cell_type": "code",
   "execution_count": 5,
   "metadata": {
    "collapsed": false
   },
   "outputs": [],
   "source": [
    "# the table name is 'nextbus':\n",
    "# only run this code if the list_of_muni_routes needs to be reestablished\n",
    "# sql_query = \"\"\"\n",
    "# SELECT * FROM {table};\n",
    "# \"\"\".format(table=table)\n",
    "# nbdata = pd.read_sql_query(sql_query,db_con)"
   ]
  },
  {
   "cell_type": "code",
   "execution_count": 6,
   "metadata": {
    "collapsed": false
   },
   "outputs": [],
   "source": [
    "# routeslist = pd.unique(nbdata['route'].ravel())\n",
    "# list_of_muni_routes = pd.DataFrame(data=routeslist, index = range(len(routeslist)), columns=['route'])\n",
    "\n",
    "# # Clean up a bit\n",
    "# list_of_muni_routes = list_of_muni_routes[(list_of_muni_routes.route.isnull() == False) & (list_of_muni_routes.route != 'Inspectors') & (list_of_muni_routes.route != 'Training')]\n",
    "# list_of_muni_routes = list_of_muni_routes[list_of_muni_routes.route != '']\n",
    "# np.save('list_of_muni_routes',np.asarray(list_of_muni_routes).ravel())\n",
    "list_of_muni_routes = np.load('list_of_muni_routes.npy')"
   ]
  },
  {
   "cell_type": "markdown",
   "metadata": {},
   "source": [
    "## Defining a classifier with differences of prediction times compared to scheduled frequency"
   ]
  },
  {
   "cell_type": "markdown",
   "metadata": {},
   "source": [
    "We read in some data. The goal here is to MAKE A PARAMETER abs(pred1-pred2)/freq, THEN PRODUCED A 'BUNCHED' column that is a smearing over 5-7 entries (NOTE WE MUST ORDER BY TIME). First we must figure out how to look up the frequency in the frequency tables"
   ]
  },
  {
   "cell_type": "markdown",
   "metadata": {},
   "source": [
    "This loads the frequency tables for computing the bunching (for each route)"
   ]
  },
  {
   "cell_type": "code",
   "execution_count": 17,
   "metadata": {
    "collapsed": false
   },
   "outputs": [],
   "source": [
    "freq_dict = {}\n",
    "for route in list_of_muni_routes:\n",
    "    my_key = 'route_'+str(route)\n",
    "    if my_key not in freq_dict:\n",
    "        freq_dict[my_key] = 0\n",
    "\n",
    "# load frequency tables\n",
    "for route in list_of_muni_routes:\n",
    "    freqvar = 'route_'+str(route)\n",
    "    with open('route_frequencies/route_'+str(route)+'_frequencies.pkl','rb') as input:\n",
    "        freq_dict[freqvar] = pickle.load(input)\n",
    "        freq_dict[freqvar].index = freq_dict[freqvar]['time']"
   ]
  },
  {
   "cell_type": "markdown",
   "metadata": {},
   "source": [
    "This will find the frequency for a given route at a given time. We will use this to run over all rows in our database"
   ]
  },
  {
   "cell_type": "code",
   "execution_count": 46,
   "metadata": {
    "collapsed": true
   },
   "outputs": [],
   "source": [
    "def find_freq(pair_route, pair_time):\n",
    "    tmp_key = 'route_'+str(pair_route)\n",
    "    # Must turn year into 1970, gah\n",
    "    # Find the first time in the time interval (pair_time, pair_time + 2 hours)\n",
    "    # (expect minimum frequency of 2 hour on Muni buses)\n",
    "    t0 = '1970-01-01 '+str(pair_time.hour)+':'+str(pair_time.minute)+':00'\n",
    "    t1 = '1970-01-01 '+str(pair_time.hour+2)+':'+str(pair_time.minute)+':00'\n",
    "    return freq_dict[tmp_key].loc[t0:t1]['freq'][0]"
   ]
  },
  {
   "cell_type": "code",
   "execution_count": 31,
   "metadata": {
    "collapsed": false
   },
   "outputs": [
    {
     "name": "stdout",
     "output_type": "stream",
     "text": [
      "2016-01-27 13:11:55\n"
     ]
    }
   ],
   "source": [
    "t0 = df30.loc[0]['time']\n",
    "#freq_dict['route_30'].loc[str(t0):str(t0+pd.Timedelta(minutes=30))]\n",
    "\n",
    "print t0"
   ]
  },
  {
   "cell_type": "code",
   "execution_count": 43,
   "metadata": {
    "collapsed": false
   },
   "outputs": [],
   "source": [
    "t0s='1970-01-01 '+str(t0.hour)+':'+str(t0.minute)+':00'"
   ]
  },
  {
   "cell_type": "code",
   "execution_count": 45,
   "metadata": {
    "collapsed": false
   },
   "outputs": [
    {
     "name": "stdout",
     "output_type": "stream",
     "text": [
      "13\n",
      "14\n"
     ]
    }
   ],
   "source": [
    "print str(t0.hour)\n",
    "\n",
    "print str(t0.hour + 1)"
   ]
  },
  {
   "cell_type": "code",
   "execution_count": 47,
   "metadata": {
    "collapsed": false
   },
   "outputs": [],
   "source": [
    "df_route_dict = {}\n",
    "for route in list_of_muni_routes:\n",
    "    my_key = 'route_'+str(route)\n",
    "    if my_key not in df_route_dict:\n",
    "        df_route_dict[my_key] = 0\n",
    "        "
   ]
  },
  {
   "cell_type": "code",
   "execution_count": 10,
   "metadata": {
    "collapsed": true
   },
   "outputs": [
    {
     "ename": "TypeError",
     "evalue": "(\"cannot do slice indexing on <class 'pandas.core.index.Int64Index'> with these indexers [2016-01-27 00:35:38] of <type 'str'>\", u'occurred at index 0')",
     "output_type": "error",
     "traceback": [
      "\u001b[1;31m---------------------------------------------------------------------------\u001b[0m",
      "\u001b[1;31mTypeError\u001b[0m                                 Traceback (most recent call last)",
      "\u001b[1;32m<ipython-input-10-1675a8bfeac4>\u001b[0m in \u001b[0;36m<module>\u001b[1;34m()\u001b[0m\n\u001b[0;32m      7\u001b[0m     \u001b[0mdf_route_dict\u001b[0m\u001b[1;33m[\u001b[0m\u001b[0mtmp_key\u001b[0m\u001b[1;33m]\u001b[0m\u001b[1;33m.\u001b[0m\u001b[0mdrop\u001b[0m\u001b[1;33m(\u001b[0m\u001b[1;34m'index'\u001b[0m\u001b[1;33m,\u001b[0m \u001b[0minplace\u001b[0m\u001b[1;33m=\u001b[0m\u001b[0mTrue\u001b[0m\u001b[1;33m,\u001b[0m \u001b[0maxis\u001b[0m\u001b[1;33m=\u001b[0m\u001b[1;36m1\u001b[0m\u001b[1;33m)\u001b[0m\u001b[1;33m\u001b[0m\u001b[0m\n\u001b[0;32m      8\u001b[0m     \u001b[1;31m# Must subtract 8 hours from row['time'], since that is actually UTC time\u001b[0m\u001b[1;33m\u001b[0m\u001b[1;33m\u001b[0m\u001b[0m\n\u001b[1;32m----> 9\u001b[1;33m     \u001b[0mdf_route_dict\u001b[0m\u001b[1;33m[\u001b[0m\u001b[0mtmp_key\u001b[0m\u001b[1;33m]\u001b[0m\u001b[1;33m[\u001b[0m\u001b[1;34m'freq'\u001b[0m\u001b[1;33m]\u001b[0m \u001b[1;33m=\u001b[0m \u001b[0mdf_route_dict\u001b[0m\u001b[1;33m[\u001b[0m\u001b[0mtmp_key\u001b[0m\u001b[1;33m]\u001b[0m\u001b[1;33m.\u001b[0m\u001b[0mapply\u001b[0m\u001b[1;33m(\u001b[0m\u001b[1;32mlambda\u001b[0m \u001b[0mrow\u001b[0m\u001b[1;33m:\u001b[0m \u001b[0mfind_freq\u001b[0m\u001b[1;33m(\u001b[0m\u001b[0mrow\u001b[0m\u001b[1;33m[\u001b[0m\u001b[1;34m'route_x'\u001b[0m\u001b[1;33m]\u001b[0m\u001b[1;33m,\u001b[0m\u001b[0mrow\u001b[0m\u001b[1;33m[\u001b[0m\u001b[1;34m'time'\u001b[0m\u001b[1;33m]\u001b[0m\u001b[1;33m-\u001b[0m \u001b[0mpd\u001b[0m\u001b[1;33m.\u001b[0m\u001b[0mTimedelta\u001b[0m\u001b[1;33m(\u001b[0m\u001b[0mhours\u001b[0m\u001b[1;33m=\u001b[0m\u001b[1;36m8\u001b[0m\u001b[1;33m)\u001b[0m\u001b[1;33m)\u001b[0m\u001b[1;33m,\u001b[0m \u001b[0maxis\u001b[0m\u001b[1;33m=\u001b[0m\u001b[1;36m1\u001b[0m\u001b[1;33m)\u001b[0m\u001b[1;33m\u001b[0m\u001b[0m\n\u001b[0m\u001b[0;32m     10\u001b[0m     \u001b[0mdf_route_dict\u001b[0m\u001b[1;33m[\u001b[0m\u001b[0mtmp_key\u001b[0m\u001b[1;33m]\u001b[0m\u001b[1;33m[\u001b[0m\u001b[1;34m'normed_pred_diff'\u001b[0m\u001b[1;33m]\u001b[0m \u001b[1;33m=\u001b[0m \u001b[0mdf_route_dict\u001b[0m\u001b[1;33m[\u001b[0m\u001b[0mtmp_key\u001b[0m\u001b[1;33m]\u001b[0m\u001b[1;33m.\u001b[0m\u001b[0mapply\u001b[0m\u001b[1;33m(\u001b[0m\u001b[1;32mlambda\u001b[0m \u001b[0mrow\u001b[0m\u001b[1;33m:\u001b[0m \u001b[0mfloat\u001b[0m\u001b[1;33m(\u001b[0m\u001b[0mabs\u001b[0m\u001b[1;33m(\u001b[0m\u001b[1;33m(\u001b[0m\u001b[0mfloat\u001b[0m\u001b[1;33m(\u001b[0m\u001b[0mrow\u001b[0m\u001b[1;33m[\u001b[0m\u001b[1;34m'pred_x'\u001b[0m\u001b[1;33m]\u001b[0m\u001b[1;33m)\u001b[0m\u001b[1;33m-\u001b[0m\u001b[0mfloat\u001b[0m\u001b[1;33m(\u001b[0m\u001b[0mrow\u001b[0m\u001b[1;33m[\u001b[0m\u001b[1;34m'pred_y'\u001b[0m\u001b[1;33m]\u001b[0m\u001b[1;33m)\u001b[0m\u001b[1;33m)\u001b[0m\u001b[1;33m/\u001b[0m\u001b[0mfloat\u001b[0m\u001b[1;33m(\u001b[0m\u001b[0mrow\u001b[0m\u001b[1;33m[\u001b[0m\u001b[1;34m'freq'\u001b[0m\u001b[1;33m]\u001b[0m\u001b[1;33m)\u001b[0m\u001b[1;33m)\u001b[0m\u001b[1;33m)\u001b[0m\u001b[1;33m,\u001b[0m \u001b[0maxis\u001b[0m\u001b[1;33m=\u001b[0m\u001b[1;36m1\u001b[0m\u001b[1;33m)\u001b[0m\u001b[1;33m\u001b[0m\u001b[0m\n\u001b[0;32m     11\u001b[0m     \u001b[1;32mprint\u001b[0m \u001b[1;34m'route '\u001b[0m\u001b[1;33m+\u001b[0m\u001b[0mstr\u001b[0m\u001b[1;33m(\u001b[0m\u001b[0mroute\u001b[0m\u001b[1;33m)\u001b[0m\u001b[1;33m+\u001b[0m\u001b[1;34m' done!'\u001b[0m\u001b[1;33m\u001b[0m\u001b[0m\n",
      "\u001b[1;32m/usr/local/lib64/python2.7/site-packages/pandas/core/frame.pyc\u001b[0m in \u001b[0;36mapply\u001b[1;34m(self, func, axis, broadcast, raw, reduce, args, **kwds)\u001b[0m\n\u001b[0;32m   3970\u001b[0m                     \u001b[1;32mif\u001b[0m \u001b[0mreduce\u001b[0m \u001b[1;32mis\u001b[0m \u001b[0mNone\u001b[0m\u001b[1;33m:\u001b[0m\u001b[1;33m\u001b[0m\u001b[0m\n\u001b[0;32m   3971\u001b[0m                         \u001b[0mreduce\u001b[0m \u001b[1;33m=\u001b[0m \u001b[0mTrue\u001b[0m\u001b[1;33m\u001b[0m\u001b[0m\n\u001b[1;32m-> 3972\u001b[1;33m                     \u001b[1;32mreturn\u001b[0m \u001b[0mself\u001b[0m\u001b[1;33m.\u001b[0m\u001b[0m_apply_standard\u001b[0m\u001b[1;33m(\u001b[0m\u001b[0mf\u001b[0m\u001b[1;33m,\u001b[0m \u001b[0maxis\u001b[0m\u001b[1;33m,\u001b[0m \u001b[0mreduce\u001b[0m\u001b[1;33m=\u001b[0m\u001b[0mreduce\u001b[0m\u001b[1;33m)\u001b[0m\u001b[1;33m\u001b[0m\u001b[0m\n\u001b[0m\u001b[0;32m   3973\u001b[0m             \u001b[1;32melse\u001b[0m\u001b[1;33m:\u001b[0m\u001b[1;33m\u001b[0m\u001b[0m\n\u001b[0;32m   3974\u001b[0m                 \u001b[1;32mreturn\u001b[0m \u001b[0mself\u001b[0m\u001b[1;33m.\u001b[0m\u001b[0m_apply_broadcast\u001b[0m\u001b[1;33m(\u001b[0m\u001b[0mf\u001b[0m\u001b[1;33m,\u001b[0m \u001b[0maxis\u001b[0m\u001b[1;33m)\u001b[0m\u001b[1;33m\u001b[0m\u001b[0m\n",
      "\u001b[1;32m/usr/local/lib64/python2.7/site-packages/pandas/core/frame.pyc\u001b[0m in \u001b[0;36m_apply_standard\u001b[1;34m(self, func, axis, ignore_failures, reduce)\u001b[0m\n\u001b[0;32m   4062\u001b[0m             \u001b[1;32mtry\u001b[0m\u001b[1;33m:\u001b[0m\u001b[1;33m\u001b[0m\u001b[0m\n\u001b[0;32m   4063\u001b[0m                 \u001b[1;32mfor\u001b[0m \u001b[0mi\u001b[0m\u001b[1;33m,\u001b[0m \u001b[0mv\u001b[0m \u001b[1;32min\u001b[0m \u001b[0menumerate\u001b[0m\u001b[1;33m(\u001b[0m\u001b[0mseries_gen\u001b[0m\u001b[1;33m)\u001b[0m\u001b[1;33m:\u001b[0m\u001b[1;33m\u001b[0m\u001b[0m\n\u001b[1;32m-> 4064\u001b[1;33m                     \u001b[0mresults\u001b[0m\u001b[1;33m[\u001b[0m\u001b[0mi\u001b[0m\u001b[1;33m]\u001b[0m \u001b[1;33m=\u001b[0m \u001b[0mfunc\u001b[0m\u001b[1;33m(\u001b[0m\u001b[0mv\u001b[0m\u001b[1;33m)\u001b[0m\u001b[1;33m\u001b[0m\u001b[0m\n\u001b[0m\u001b[0;32m   4065\u001b[0m                     \u001b[0mkeys\u001b[0m\u001b[1;33m.\u001b[0m\u001b[0mappend\u001b[0m\u001b[1;33m(\u001b[0m\u001b[0mv\u001b[0m\u001b[1;33m.\u001b[0m\u001b[0mname\u001b[0m\u001b[1;33m)\u001b[0m\u001b[1;33m\u001b[0m\u001b[0m\n\u001b[0;32m   4066\u001b[0m             \u001b[1;32mexcept\u001b[0m \u001b[0mException\u001b[0m \u001b[1;32mas\u001b[0m \u001b[0me\u001b[0m\u001b[1;33m:\u001b[0m\u001b[1;33m\u001b[0m\u001b[0m\n",
      "\u001b[1;32m<ipython-input-10-1675a8bfeac4>\u001b[0m in \u001b[0;36m<lambda>\u001b[1;34m(row)\u001b[0m\n\u001b[0;32m      7\u001b[0m     \u001b[0mdf_route_dict\u001b[0m\u001b[1;33m[\u001b[0m\u001b[0mtmp_key\u001b[0m\u001b[1;33m]\u001b[0m\u001b[1;33m.\u001b[0m\u001b[0mdrop\u001b[0m\u001b[1;33m(\u001b[0m\u001b[1;34m'index'\u001b[0m\u001b[1;33m,\u001b[0m \u001b[0minplace\u001b[0m\u001b[1;33m=\u001b[0m\u001b[0mTrue\u001b[0m\u001b[1;33m,\u001b[0m \u001b[0maxis\u001b[0m\u001b[1;33m=\u001b[0m\u001b[1;36m1\u001b[0m\u001b[1;33m)\u001b[0m\u001b[1;33m\u001b[0m\u001b[0m\n\u001b[0;32m      8\u001b[0m     \u001b[1;31m# Must subtract 8 hours from row['time'], since that is actually UTC time\u001b[0m\u001b[1;33m\u001b[0m\u001b[1;33m\u001b[0m\u001b[0m\n\u001b[1;32m----> 9\u001b[1;33m     \u001b[0mdf_route_dict\u001b[0m\u001b[1;33m[\u001b[0m\u001b[0mtmp_key\u001b[0m\u001b[1;33m]\u001b[0m\u001b[1;33m[\u001b[0m\u001b[1;34m'freq'\u001b[0m\u001b[1;33m]\u001b[0m \u001b[1;33m=\u001b[0m \u001b[0mdf_route_dict\u001b[0m\u001b[1;33m[\u001b[0m\u001b[0mtmp_key\u001b[0m\u001b[1;33m]\u001b[0m\u001b[1;33m.\u001b[0m\u001b[0mapply\u001b[0m\u001b[1;33m(\u001b[0m\u001b[1;32mlambda\u001b[0m \u001b[0mrow\u001b[0m\u001b[1;33m:\u001b[0m \u001b[0mfind_freq\u001b[0m\u001b[1;33m(\u001b[0m\u001b[0mrow\u001b[0m\u001b[1;33m[\u001b[0m\u001b[1;34m'route_x'\u001b[0m\u001b[1;33m]\u001b[0m\u001b[1;33m,\u001b[0m\u001b[0mrow\u001b[0m\u001b[1;33m[\u001b[0m\u001b[1;34m'time'\u001b[0m\u001b[1;33m]\u001b[0m\u001b[1;33m-\u001b[0m \u001b[0mpd\u001b[0m\u001b[1;33m.\u001b[0m\u001b[0mTimedelta\u001b[0m\u001b[1;33m(\u001b[0m\u001b[0mhours\u001b[0m\u001b[1;33m=\u001b[0m\u001b[1;36m8\u001b[0m\u001b[1;33m)\u001b[0m\u001b[1;33m)\u001b[0m\u001b[1;33m,\u001b[0m \u001b[0maxis\u001b[0m\u001b[1;33m=\u001b[0m\u001b[1;36m1\u001b[0m\u001b[1;33m)\u001b[0m\u001b[1;33m\u001b[0m\u001b[0m\n\u001b[0m\u001b[0;32m     10\u001b[0m     \u001b[0mdf_route_dict\u001b[0m\u001b[1;33m[\u001b[0m\u001b[0mtmp_key\u001b[0m\u001b[1;33m]\u001b[0m\u001b[1;33m[\u001b[0m\u001b[1;34m'normed_pred_diff'\u001b[0m\u001b[1;33m]\u001b[0m \u001b[1;33m=\u001b[0m \u001b[0mdf_route_dict\u001b[0m\u001b[1;33m[\u001b[0m\u001b[0mtmp_key\u001b[0m\u001b[1;33m]\u001b[0m\u001b[1;33m.\u001b[0m\u001b[0mapply\u001b[0m\u001b[1;33m(\u001b[0m\u001b[1;32mlambda\u001b[0m \u001b[0mrow\u001b[0m\u001b[1;33m:\u001b[0m \u001b[0mfloat\u001b[0m\u001b[1;33m(\u001b[0m\u001b[0mabs\u001b[0m\u001b[1;33m(\u001b[0m\u001b[1;33m(\u001b[0m\u001b[0mfloat\u001b[0m\u001b[1;33m(\u001b[0m\u001b[0mrow\u001b[0m\u001b[1;33m[\u001b[0m\u001b[1;34m'pred_x'\u001b[0m\u001b[1;33m]\u001b[0m\u001b[1;33m)\u001b[0m\u001b[1;33m-\u001b[0m\u001b[0mfloat\u001b[0m\u001b[1;33m(\u001b[0m\u001b[0mrow\u001b[0m\u001b[1;33m[\u001b[0m\u001b[1;34m'pred_y'\u001b[0m\u001b[1;33m]\u001b[0m\u001b[1;33m)\u001b[0m\u001b[1;33m)\u001b[0m\u001b[1;33m/\u001b[0m\u001b[0mfloat\u001b[0m\u001b[1;33m(\u001b[0m\u001b[0mrow\u001b[0m\u001b[1;33m[\u001b[0m\u001b[1;34m'freq'\u001b[0m\u001b[1;33m]\u001b[0m\u001b[1;33m)\u001b[0m\u001b[1;33m)\u001b[0m\u001b[1;33m)\u001b[0m\u001b[1;33m,\u001b[0m \u001b[0maxis\u001b[0m\u001b[1;33m=\u001b[0m\u001b[1;36m1\u001b[0m\u001b[1;33m)\u001b[0m\u001b[1;33m\u001b[0m\u001b[0m\n\u001b[0;32m     11\u001b[0m     \u001b[1;32mprint\u001b[0m \u001b[1;34m'route '\u001b[0m\u001b[1;33m+\u001b[0m\u001b[0mstr\u001b[0m\u001b[1;33m(\u001b[0m\u001b[0mroute\u001b[0m\u001b[1;33m)\u001b[0m\u001b[1;33m+\u001b[0m\u001b[1;34m' done!'\u001b[0m\u001b[1;33m\u001b[0m\u001b[0m\n",
      "\u001b[1;32m<ipython-input-8-4a92bbd5543a>\u001b[0m in \u001b[0;36mfind_freq\u001b[1;34m(pair_route, pair_time)\u001b[0m\n\u001b[0;32m      3\u001b[0m     \u001b[1;31m# Find the first time in the time interval (pair_time, pair_time + 1 hour)\u001b[0m\u001b[1;33m\u001b[0m\u001b[1;33m\u001b[0m\u001b[0m\n\u001b[0;32m      4\u001b[0m     \u001b[1;31m# (expect minimum frequency of 2 hour on Muni buses)\u001b[0m\u001b[1;33m\u001b[0m\u001b[1;33m\u001b[0m\u001b[0m\n\u001b[1;32m----> 5\u001b[1;33m     \u001b[1;32mreturn\u001b[0m \u001b[0mfreq_dict\u001b[0m\u001b[1;33m[\u001b[0m\u001b[0mtmp_key\u001b[0m\u001b[1;33m]\u001b[0m\u001b[1;33m.\u001b[0m\u001b[0mloc\u001b[0m\u001b[1;33m[\u001b[0m\u001b[0mstr\u001b[0m\u001b[1;33m(\u001b[0m\u001b[0mpair_time\u001b[0m\u001b[1;33m)\u001b[0m\u001b[1;33m:\u001b[0m\u001b[0mstr\u001b[0m\u001b[1;33m(\u001b[0m\u001b[0mpair_time\u001b[0m\u001b[1;33m+\u001b[0m\u001b[0mpd\u001b[0m\u001b[1;33m.\u001b[0m\u001b[0mTimedelta\u001b[0m\u001b[1;33m(\u001b[0m\u001b[0mhours\u001b[0m\u001b[1;33m=\u001b[0m\u001b[1;36m2\u001b[0m\u001b[1;33m)\u001b[0m\u001b[1;33m)\u001b[0m\u001b[1;33m]\u001b[0m\u001b[1;33m[\u001b[0m\u001b[1;34m'freq'\u001b[0m\u001b[1;33m]\u001b[0m\u001b[1;33m[\u001b[0m\u001b[1;36m0\u001b[0m\u001b[1;33m]\u001b[0m\u001b[1;33m\u001b[0m\u001b[0m\n\u001b[0m",
      "\u001b[1;32m/usr/local/lib64/python2.7/site-packages/pandas/core/indexing.pyc\u001b[0m in \u001b[0;36m__getitem__\u001b[1;34m(self, key)\u001b[0m\n\u001b[0;32m   1225\u001b[0m             \u001b[1;32mreturn\u001b[0m \u001b[0mself\u001b[0m\u001b[1;33m.\u001b[0m\u001b[0m_getitem_tuple\u001b[0m\u001b[1;33m(\u001b[0m\u001b[0mkey\u001b[0m\u001b[1;33m)\u001b[0m\u001b[1;33m\u001b[0m\u001b[0m\n\u001b[0;32m   1226\u001b[0m         \u001b[1;32melse\u001b[0m\u001b[1;33m:\u001b[0m\u001b[1;33m\u001b[0m\u001b[0m\n\u001b[1;32m-> 1227\u001b[1;33m             \u001b[1;32mreturn\u001b[0m \u001b[0mself\u001b[0m\u001b[1;33m.\u001b[0m\u001b[0m_getitem_axis\u001b[0m\u001b[1;33m(\u001b[0m\u001b[0mkey\u001b[0m\u001b[1;33m,\u001b[0m \u001b[0maxis\u001b[0m\u001b[1;33m=\u001b[0m\u001b[1;36m0\u001b[0m\u001b[1;33m)\u001b[0m\u001b[1;33m\u001b[0m\u001b[0m\n\u001b[0m\u001b[0;32m   1228\u001b[0m \u001b[1;33m\u001b[0m\u001b[0m\n\u001b[0;32m   1229\u001b[0m     \u001b[1;32mdef\u001b[0m \u001b[0m_getitem_axis\u001b[0m\u001b[1;33m(\u001b[0m\u001b[0mself\u001b[0m\u001b[1;33m,\u001b[0m \u001b[0mkey\u001b[0m\u001b[1;33m,\u001b[0m \u001b[0maxis\u001b[0m\u001b[1;33m=\u001b[0m\u001b[1;36m0\u001b[0m\u001b[1;33m)\u001b[0m\u001b[1;33m:\u001b[0m\u001b[1;33m\u001b[0m\u001b[0m\n",
      "\u001b[1;32m/usr/local/lib64/python2.7/site-packages/pandas/core/indexing.pyc\u001b[0m in \u001b[0;36m_getitem_axis\u001b[1;34m(self, key, axis)\u001b[0m\n\u001b[0;32m   1340\u001b[0m         \u001b[1;32mif\u001b[0m \u001b[0misinstance\u001b[0m\u001b[1;33m(\u001b[0m\u001b[0mkey\u001b[0m\u001b[1;33m,\u001b[0m \u001b[0mslice\u001b[0m\u001b[1;33m)\u001b[0m\u001b[1;33m:\u001b[0m\u001b[1;33m\u001b[0m\u001b[0m\n\u001b[0;32m   1341\u001b[0m             \u001b[0mself\u001b[0m\u001b[1;33m.\u001b[0m\u001b[0m_has_valid_type\u001b[0m\u001b[1;33m(\u001b[0m\u001b[0mkey\u001b[0m\u001b[1;33m,\u001b[0m \u001b[0maxis\u001b[0m\u001b[1;33m)\u001b[0m\u001b[1;33m\u001b[0m\u001b[0m\n\u001b[1;32m-> 1342\u001b[1;33m             \u001b[1;32mreturn\u001b[0m \u001b[0mself\u001b[0m\u001b[1;33m.\u001b[0m\u001b[0m_get_slice_axis\u001b[0m\u001b[1;33m(\u001b[0m\u001b[0mkey\u001b[0m\u001b[1;33m,\u001b[0m \u001b[0maxis\u001b[0m\u001b[1;33m=\u001b[0m\u001b[0maxis\u001b[0m\u001b[1;33m)\u001b[0m\u001b[1;33m\u001b[0m\u001b[0m\n\u001b[0m\u001b[0;32m   1343\u001b[0m         \u001b[1;32melif\u001b[0m \u001b[0mis_bool_indexer\u001b[0m\u001b[1;33m(\u001b[0m\u001b[0mkey\u001b[0m\u001b[1;33m)\u001b[0m\u001b[1;33m:\u001b[0m\u001b[1;33m\u001b[0m\u001b[0m\n\u001b[0;32m   1344\u001b[0m             \u001b[1;32mreturn\u001b[0m \u001b[0mself\u001b[0m\u001b[1;33m.\u001b[0m\u001b[0m_getbool_axis\u001b[0m\u001b[1;33m(\u001b[0m\u001b[0mkey\u001b[0m\u001b[1;33m,\u001b[0m \u001b[0maxis\u001b[0m\u001b[1;33m=\u001b[0m\u001b[0maxis\u001b[0m\u001b[1;33m)\u001b[0m\u001b[1;33m\u001b[0m\u001b[0m\n",
      "\u001b[1;32m/usr/local/lib64/python2.7/site-packages/pandas/core/indexing.pyc\u001b[0m in \u001b[0;36m_get_slice_axis\u001b[1;34m(self, slice_obj, axis)\u001b[0m\n\u001b[0;32m   1247\u001b[0m         \u001b[0mlabels\u001b[0m \u001b[1;33m=\u001b[0m \u001b[0mobj\u001b[0m\u001b[1;33m.\u001b[0m\u001b[0m_get_axis\u001b[0m\u001b[1;33m(\u001b[0m\u001b[0maxis\u001b[0m\u001b[1;33m)\u001b[0m\u001b[1;33m\u001b[0m\u001b[0m\n\u001b[0;32m   1248\u001b[0m         indexer = labels.slice_indexer(slice_obj.start, slice_obj.stop,\n\u001b[1;32m-> 1249\u001b[1;33m                                        slice_obj.step)\n\u001b[0m\u001b[0;32m   1250\u001b[0m \u001b[1;33m\u001b[0m\u001b[0m\n\u001b[0;32m   1251\u001b[0m         \u001b[1;32mif\u001b[0m \u001b[0misinstance\u001b[0m\u001b[1;33m(\u001b[0m\u001b[0mindexer\u001b[0m\u001b[1;33m,\u001b[0m \u001b[0mslice\u001b[0m\u001b[1;33m)\u001b[0m\u001b[1;33m:\u001b[0m\u001b[1;33m\u001b[0m\u001b[0m\n",
      "\u001b[1;32m/usr/local/lib64/python2.7/site-packages/pandas/core/index.pyc\u001b[0m in \u001b[0;36mslice_indexer\u001b[1;34m(self, start, end, step, kind)\u001b[0m\n\u001b[0;32m   2568\u001b[0m         \u001b[0mThis\u001b[0m \u001b[0mfunction\u001b[0m \u001b[0massumes\u001b[0m \u001b[0mthat\u001b[0m \u001b[0mthe\u001b[0m \u001b[0mdata\u001b[0m \u001b[1;32mis\u001b[0m \u001b[0msorted\u001b[0m\u001b[1;33m,\u001b[0m \u001b[0mso\u001b[0m \u001b[0muse\u001b[0m \u001b[0mat\u001b[0m \u001b[0myour\u001b[0m \u001b[0mown\u001b[0m \u001b[0mperil\u001b[0m\u001b[1;33m\u001b[0m\u001b[0m\n\u001b[0;32m   2569\u001b[0m         \"\"\"\n\u001b[1;32m-> 2570\u001b[1;33m         \u001b[0mstart_slice\u001b[0m\u001b[1;33m,\u001b[0m \u001b[0mend_slice\u001b[0m \u001b[1;33m=\u001b[0m \u001b[0mself\u001b[0m\u001b[1;33m.\u001b[0m\u001b[0mslice_locs\u001b[0m\u001b[1;33m(\u001b[0m\u001b[0mstart\u001b[0m\u001b[1;33m,\u001b[0m \u001b[0mend\u001b[0m\u001b[1;33m,\u001b[0m \u001b[0mstep\u001b[0m\u001b[1;33m=\u001b[0m\u001b[0mstep\u001b[0m\u001b[1;33m,\u001b[0m \u001b[0mkind\u001b[0m\u001b[1;33m=\u001b[0m\u001b[0mkind\u001b[0m\u001b[1;33m)\u001b[0m\u001b[1;33m\u001b[0m\u001b[0m\n\u001b[0m\u001b[0;32m   2571\u001b[0m \u001b[1;33m\u001b[0m\u001b[0m\n\u001b[0;32m   2572\u001b[0m         \u001b[1;31m# return a slice\u001b[0m\u001b[1;33m\u001b[0m\u001b[1;33m\u001b[0m\u001b[0m\n",
      "\u001b[1;32m/usr/local/lib64/python2.7/site-packages/pandas/core/index.pyc\u001b[0m in \u001b[0;36mslice_locs\u001b[1;34m(self, start, end, step, kind)\u001b[0m\n\u001b[0;32m   2712\u001b[0m         \u001b[0mstart_slice\u001b[0m \u001b[1;33m=\u001b[0m \u001b[0mNone\u001b[0m\u001b[1;33m\u001b[0m\u001b[0m\n\u001b[0;32m   2713\u001b[0m         \u001b[1;32mif\u001b[0m \u001b[0mstart\u001b[0m \u001b[1;32mis\u001b[0m \u001b[1;32mnot\u001b[0m \u001b[0mNone\u001b[0m\u001b[1;33m:\u001b[0m\u001b[1;33m\u001b[0m\u001b[0m\n\u001b[1;32m-> 2714\u001b[1;33m             \u001b[0mstart_slice\u001b[0m \u001b[1;33m=\u001b[0m \u001b[0mself\u001b[0m\u001b[1;33m.\u001b[0m\u001b[0mget_slice_bound\u001b[0m\u001b[1;33m(\u001b[0m\u001b[0mstart\u001b[0m\u001b[1;33m,\u001b[0m \u001b[1;34m'left'\u001b[0m\u001b[1;33m,\u001b[0m \u001b[0mkind\u001b[0m\u001b[1;33m)\u001b[0m\u001b[1;33m\u001b[0m\u001b[0m\n\u001b[0m\u001b[0;32m   2715\u001b[0m         \u001b[1;32mif\u001b[0m \u001b[0mstart_slice\u001b[0m \u001b[1;32mis\u001b[0m \u001b[0mNone\u001b[0m\u001b[1;33m:\u001b[0m\u001b[1;33m\u001b[0m\u001b[0m\n\u001b[0;32m   2716\u001b[0m             \u001b[0mstart_slice\u001b[0m \u001b[1;33m=\u001b[0m \u001b[1;36m0\u001b[0m\u001b[1;33m\u001b[0m\u001b[0m\n",
      "\u001b[1;32m/usr/local/lib64/python2.7/site-packages/pandas/core/index.pyc\u001b[0m in \u001b[0;36mget_slice_bound\u001b[1;34m(self, label, side, kind)\u001b[0m\n\u001b[0;32m   2650\u001b[0m         \u001b[1;31m# For datetime indices label may be a string that has to be converted\u001b[0m\u001b[1;33m\u001b[0m\u001b[1;33m\u001b[0m\u001b[0m\n\u001b[0;32m   2651\u001b[0m         \u001b[1;31m# to datetime boundary according to its resolution.\u001b[0m\u001b[1;33m\u001b[0m\u001b[1;33m\u001b[0m\u001b[0m\n\u001b[1;32m-> 2652\u001b[1;33m         \u001b[0mlabel\u001b[0m \u001b[1;33m=\u001b[0m \u001b[0mself\u001b[0m\u001b[1;33m.\u001b[0m\u001b[0m_maybe_cast_slice_bound\u001b[0m\u001b[1;33m(\u001b[0m\u001b[0mlabel\u001b[0m\u001b[1;33m,\u001b[0m \u001b[0mside\u001b[0m\u001b[1;33m,\u001b[0m \u001b[0mkind\u001b[0m\u001b[1;33m)\u001b[0m\u001b[1;33m\u001b[0m\u001b[0m\n\u001b[0m\u001b[0;32m   2653\u001b[0m \u001b[1;33m\u001b[0m\u001b[0m\n\u001b[0;32m   2654\u001b[0m         \u001b[1;31m# we need to look up the label\u001b[0m\u001b[1;33m\u001b[0m\u001b[1;33m\u001b[0m\u001b[0m\n",
      "\u001b[1;32m/usr/local/lib64/python2.7/site-packages/pandas/core/index.pyc\u001b[0m in \u001b[0;36m_maybe_cast_slice_bound\u001b[1;34m(self, label, side, kind)\u001b[0m\n\u001b[0;32m   3649\u001b[0m         \u001b[1;31m# integer/floats directly\u001b[0m\u001b[1;33m\u001b[0m\u001b[1;33m\u001b[0m\u001b[0m\n\u001b[0;32m   3650\u001b[0m         \u001b[1;32mif\u001b[0m \u001b[1;32mnot\u001b[0m \u001b[1;33m(\u001b[0m\u001b[0mis_integer\u001b[0m\u001b[1;33m(\u001b[0m\u001b[0mlabel\u001b[0m\u001b[1;33m)\u001b[0m \u001b[1;32mor\u001b[0m \u001b[0mis_float\u001b[0m\u001b[1;33m(\u001b[0m\u001b[0mlabel\u001b[0m\u001b[1;33m)\u001b[0m\u001b[1;33m)\u001b[0m\u001b[1;33m:\u001b[0m\u001b[1;33m\u001b[0m\u001b[0m\n\u001b[1;32m-> 3651\u001b[1;33m             \u001b[0mself\u001b[0m\u001b[1;33m.\u001b[0m\u001b[0m_invalid_indexer\u001b[0m\u001b[1;33m(\u001b[0m\u001b[1;34m'slice'\u001b[0m\u001b[1;33m,\u001b[0m\u001b[0mlabel\u001b[0m\u001b[1;33m)\u001b[0m\u001b[1;33m\u001b[0m\u001b[0m\n\u001b[0m\u001b[0;32m   3652\u001b[0m \u001b[1;33m\u001b[0m\u001b[0m\n\u001b[0;32m   3653\u001b[0m         \u001b[1;32mreturn\u001b[0m \u001b[0mlabel\u001b[0m\u001b[1;33m\u001b[0m\u001b[0m\n",
      "\u001b[1;32m/usr/local/lib64/python2.7/site-packages/pandas/core/index.pyc\u001b[0m in \u001b[0;36m_invalid_indexer\u001b[1;34m(self, form, key)\u001b[0m\n\u001b[0;32m   1015\u001b[0m                                                            \u001b[0mklass\u001b[0m\u001b[1;33m=\u001b[0m\u001b[0mtype\u001b[0m\u001b[1;33m(\u001b[0m\u001b[0mself\u001b[0m\u001b[1;33m)\u001b[0m\u001b[1;33m,\u001b[0m\u001b[1;33m\u001b[0m\u001b[0m\n\u001b[0;32m   1016\u001b[0m                                                            \u001b[0mkey\u001b[0m\u001b[1;33m=\u001b[0m\u001b[0mkey\u001b[0m\u001b[1;33m,\u001b[0m\u001b[1;33m\u001b[0m\u001b[0m\n\u001b[1;32m-> 1017\u001b[1;33m                                                            kind=type(key)))\n\u001b[0m\u001b[0;32m   1018\u001b[0m \u001b[1;33m\u001b[0m\u001b[0m\n\u001b[0;32m   1019\u001b[0m     \u001b[1;32mdef\u001b[0m \u001b[0mget_duplicates\u001b[0m\u001b[1;33m(\u001b[0m\u001b[0mself\u001b[0m\u001b[1;33m)\u001b[0m\u001b[1;33m:\u001b[0m\u001b[1;33m\u001b[0m\u001b[0m\n",
      "\u001b[1;31mTypeError\u001b[0m: (\"cannot do slice indexing on <class 'pandas.core.index.Int64Index'> with these indexers [2016-01-27 00:35:38] of <type 'str'>\", u'occurred at index 0')"
     ]
    }
   ],
   "source": [
    "for route in list_of_muni_routes[:3]:\n",
    "    tmp_key = 'route_'+str(route)\n",
    "    sql_query = '''SELECT * FROM {table} WHERE route_x = \\'{route}\\' LIMIT 1000;'''.format(table=table,route=route)\n",
    "    #sql_query = '''SELECT * FROM {table};'''.format(table=table)\n",
    "    df_route_dict[tmp_key] = pd.read_sql_query(sql_query, db_con)\n",
    "    # useless column\n",
    "    df_route_dict[tmp_key].drop('index', inplace=True, axis=1)\n",
    "    # Must subtract 8 hours from row['time'], since that is actually UTC time\n",
    "    df_route_dict[tmp_key]['freq'] = df_route_dict[tmp_key].apply(lambda row: find_freq(row['route_x'],row['time']- pd.Timedelta(hours=8)), axis=1)\n",
    "    df_route_dict[tmp_key]['normed_pred_diff'] = df_route_dict[tmp_key].apply(lambda row: float(abs((float(row['pred_x'])-float(row['pred_y']))/float(row['freq']))), axis=1)\n",
    "    print 'route '+str(route)+' done!'"
   ]
  },
  {
   "cell_type": "code",
   "execution_count": 48,
   "metadata": {
    "collapsed": false
   },
   "outputs": [],
   "source": [
    "sql_query = '''SELECT * FROM {table} WHERE route_x = \\'{route}\\' LIMIT 1000;'''.format(table=table,route='30')\n",
    "#sql_query = '''SELECT * FROM {table};'''.format(table=table)\n",
    "df30 = pd.read_sql_query(sql_query, db_con)\n",
    "# useless column\n",
    "df30.drop('index', inplace=True, axis=1)"
   ]
  },
  {
   "cell_type": "code",
   "execution_count": 49,
   "metadata": {
    "collapsed": true
   },
   "outputs": [
    {
     "data": {
      "text/html": [
       "<div>\n",
       "<table border=\"1\" class=\"dataframe\">\n",
       "  <thead>\n",
       "    <tr style=\"text-align: right;\">\n",
       "      <th></th>\n",
       "      <th>lat_x</th>\n",
       "      <th>lon_x</th>\n",
       "      <th>pred_x</th>\n",
       "      <th>route_x</th>\n",
       "      <th>speed_x</th>\n",
       "      <th>time</th>\n",
       "      <th>lat_y</th>\n",
       "      <th>lon_y</th>\n",
       "      <th>pred_y</th>\n",
       "      <th>speed_y</th>\n",
       "      <th>dist</th>\n",
       "    </tr>\n",
       "  </thead>\n",
       "  <tbody>\n",
       "    <tr>\n",
       "      <th>0</th>\n",
       "      <td>37.80133</td>\n",
       "      <td>-122.43250</td>\n",
       "      <td>29</td>\n",
       "      <td>30</td>\n",
       "      <td>37</td>\n",
       "      <td>2016-01-27 13:11:55</td>\n",
       "      <td>37.79957</td>\n",
       "      <td>-122.43599</td>\n",
       "      <td>40</td>\n",
       "      <td>25</td>\n",
       "      <td>401.761913</td>\n",
       "    </tr>\n",
       "    <tr>\n",
       "      <th>1</th>\n",
       "      <td>37.80218</td>\n",
       "      <td>-122.42588</td>\n",
       "      <td>27</td>\n",
       "      <td>30</td>\n",
       "      <td>33</td>\n",
       "      <td>2016-01-27 13:13:36</td>\n",
       "      <td>37.80030</td>\n",
       "      <td>-122.44052</td>\n",
       "      <td>38</td>\n",
       "      <td>33</td>\n",
       "      <td>1630.725417</td>\n",
       "    </tr>\n",
       "    <tr>\n",
       "      <th>2</th>\n",
       "      <td>37.80030</td>\n",
       "      <td>-122.44052</td>\n",
       "      <td>5</td>\n",
       "      <td>30</td>\n",
       "      <td>33</td>\n",
       "      <td>2016-01-27 13:13:36</td>\n",
       "      <td>37.79134</td>\n",
       "      <td>-122.44357</td>\n",
       "      <td>8</td>\n",
       "      <td>29</td>\n",
       "      <td>632.588945</td>\n",
       "    </tr>\n",
       "    <tr>\n",
       "      <th>3</th>\n",
       "      <td>37.80531</td>\n",
       "      <td>-122.42418</td>\n",
       "      <td>25</td>\n",
       "      <td>30</td>\n",
       "      <td>20</td>\n",
       "      <td>2016-01-27 13:15:16</td>\n",
       "      <td>37.80062</td>\n",
       "      <td>-122.44470</td>\n",
       "      <td>36</td>\n",
       "      <td>9</td>\n",
       "      <td>2297.355977</td>\n",
       "    </tr>\n",
       "    <tr>\n",
       "      <th>4</th>\n",
       "      <td>37.80062</td>\n",
       "      <td>-122.44470</td>\n",
       "      <td>3</td>\n",
       "      <td>30</td>\n",
       "      <td>9</td>\n",
       "      <td>2016-01-27 13:15:16</td>\n",
       "      <td>37.79224</td>\n",
       "      <td>-122.43633</td>\n",
       "      <td>7</td>\n",
       "      <td>3</td>\n",
       "      <td>1055.770445</td>\n",
       "    </tr>\n",
       "    <tr>\n",
       "      <th>5</th>\n",
       "      <td>37.80558</td>\n",
       "      <td>-122.42159</td>\n",
       "      <td>23</td>\n",
       "      <td>30</td>\n",
       "      <td>29</td>\n",
       "      <td>2016-01-27 13:16:14</td>\n",
       "      <td>37.79999</td>\n",
       "      <td>-122.44268</td>\n",
       "      <td>33</td>\n",
       "      <td>9</td>\n",
       "      <td>2367.188237</td>\n",
       "    </tr>\n",
       "    <tr>\n",
       "      <th>6</th>\n",
       "      <td>37.80591</td>\n",
       "      <td>-122.41909</td>\n",
       "      <td>22</td>\n",
       "      <td>30</td>\n",
       "      <td>27</td>\n",
       "      <td>2016-01-27 13:17:53</td>\n",
       "      <td>37.80079</td>\n",
       "      <td>-122.43652</td>\n",
       "      <td>30</td>\n",
       "      <td>9</td>\n",
       "      <td>1960.792594</td>\n",
       "    </tr>\n",
       "    <tr>\n",
       "      <th>7</th>\n",
       "      <td>37.80079</td>\n",
       "      <td>-122.43652</td>\n",
       "      <td>30</td>\n",
       "      <td>30</td>\n",
       "      <td>9</td>\n",
       "      <td>2016-01-27 13:17:53</td>\n",
       "      <td>37.79487</td>\n",
       "      <td>-122.43677</td>\n",
       "      <td>40</td>\n",
       "      <td>16</td>\n",
       "      <td>353.946517</td>\n",
       "    </tr>\n",
       "    <tr>\n",
       "      <th>8</th>\n",
       "      <td>37.80396</td>\n",
       "      <td>-122.41547</td>\n",
       "      <td>20</td>\n",
       "      <td>30</td>\n",
       "      <td>42</td>\n",
       "      <td>2016-01-27 13:19:25</td>\n",
       "      <td>37.80154</td>\n",
       "      <td>-122.43066</td>\n",
       "      <td>29</td>\n",
       "      <td>33</td>\n",
       "      <td>1694.136988</td>\n",
       "    </tr>\n",
       "    <tr>\n",
       "      <th>9</th>\n",
       "      <td>37.80154</td>\n",
       "      <td>-122.43066</td>\n",
       "      <td>29</td>\n",
       "      <td>30</td>\n",
       "      <td>33</td>\n",
       "      <td>2016-01-27 13:19:25</td>\n",
       "      <td>37.79787</td>\n",
       "      <td>-122.43569</td>\n",
       "      <td>39</td>\n",
       "      <td>18</td>\n",
       "      <td>600.230129</td>\n",
       "    </tr>\n",
       "  </tbody>\n",
       "</table>\n",
       "</div>"
      ],
      "text/plain": [
       "      lat_x      lon_x pred_x route_x  speed_x                time     lat_y  \\\n",
       "0  37.80133 -122.43250     29      30       37 2016-01-27 13:11:55  37.79957   \n",
       "1  37.80218 -122.42588     27      30       33 2016-01-27 13:13:36  37.80030   \n",
       "2  37.80030 -122.44052      5      30       33 2016-01-27 13:13:36  37.79134   \n",
       "3  37.80531 -122.42418     25      30       20 2016-01-27 13:15:16  37.80062   \n",
       "4  37.80062 -122.44470      3      30        9 2016-01-27 13:15:16  37.79224   \n",
       "5  37.80558 -122.42159     23      30       29 2016-01-27 13:16:14  37.79999   \n",
       "6  37.80591 -122.41909     22      30       27 2016-01-27 13:17:53  37.80079   \n",
       "7  37.80079 -122.43652     30      30        9 2016-01-27 13:17:53  37.79487   \n",
       "8  37.80396 -122.41547     20      30       42 2016-01-27 13:19:25  37.80154   \n",
       "9  37.80154 -122.43066     29      30       33 2016-01-27 13:19:25  37.79787   \n",
       "\n",
       "       lon_y pred_y  speed_y         dist  \n",
       "0 -122.43599     40       25   401.761913  \n",
       "1 -122.44052     38       33  1630.725417  \n",
       "2 -122.44357      8       29   632.588945  \n",
       "3 -122.44470     36        9  2297.355977  \n",
       "4 -122.43633      7        3  1055.770445  \n",
       "5 -122.44268     33        9  2367.188237  \n",
       "6 -122.43652     30        9  1960.792594  \n",
       "7 -122.43677     40       16   353.946517  \n",
       "8 -122.43066     29       33  1694.136988  \n",
       "9 -122.43569     39       18   600.230129  "
      ]
     },
     "execution_count": 49,
     "metadata": {},
     "output_type": "execute_result"
    }
   ],
   "source": [
    "df30.head(10)"
   ]
  },
  {
   "cell_type": "code",
   "execution_count": 50,
   "metadata": {
    "collapsed": false
   },
   "outputs": [
    {
     "data": {
      "text/plain": [
       "826.0"
      ]
     },
     "execution_count": 50,
     "metadata": {},
     "output_type": "execute_result"
    }
   ],
   "source": [
    "find_freq(30,df30.loc[0]['time'])"
   ]
  },
  {
   "cell_type": "code",
   "execution_count": 52,
   "metadata": {
    "collapsed": false
   },
   "outputs": [
    {
     "data": {
      "text/html": [
       "<div>\n",
       "<table border=\"1\" class=\"dataframe\">\n",
       "  <thead>\n",
       "    <tr style=\"text-align: right;\">\n",
       "      <th></th>\n",
       "      <th>time</th>\n",
       "      <th>freq</th>\n",
       "    </tr>\n",
       "    <tr>\n",
       "      <th>time</th>\n",
       "      <th></th>\n",
       "      <th></th>\n",
       "    </tr>\n",
       "  </thead>\n",
       "  <tbody>\n",
       "    <tr>\n",
       "      <th>1969-12-31 23:59:59</th>\n",
       "      <td>1969-12-31 23:59:59</td>\n",
       "      <td>896</td>\n",
       "    </tr>\n",
       "    <tr>\n",
       "      <th>1970-01-01 09:13:00</th>\n",
       "      <td>1970-01-01 09:13:00</td>\n",
       "      <td>553</td>\n",
       "    </tr>\n",
       "    <tr>\n",
       "      <th>1969-12-31 23:59:59</th>\n",
       "      <td>1969-12-31 23:59:59</td>\n",
       "      <td>886</td>\n",
       "    </tr>\n",
       "    <tr>\n",
       "      <th>1970-01-01 09:25:00</th>\n",
       "      <td>1970-01-01 09:25:00</td>\n",
       "      <td>565</td>\n",
       "    </tr>\n",
       "    <tr>\n",
       "      <th>1969-12-31 23:59:59</th>\n",
       "      <td>1969-12-31 23:59:59</td>\n",
       "      <td>874</td>\n",
       "    </tr>\n",
       "    <tr>\n",
       "      <th>1970-01-01 10:13:00</th>\n",
       "      <td>1970-01-01 10:13:00</td>\n",
       "      <td>613</td>\n",
       "    </tr>\n",
       "    <tr>\n",
       "      <th>1969-12-31 23:59:59</th>\n",
       "      <td>1969-12-31 23:59:59</td>\n",
       "      <td>826</td>\n",
       "    </tr>\n",
       "    <tr>\n",
       "      <th>1970-01-01 10:37:00</th>\n",
       "      <td>1970-01-01 10:37:00</td>\n",
       "      <td>637</td>\n",
       "    </tr>\n",
       "    <tr>\n",
       "      <th>1969-12-31 23:59:59</th>\n",
       "      <td>1969-12-31 23:59:59</td>\n",
       "      <td>802</td>\n",
       "    </tr>\n",
       "    <tr>\n",
       "      <th>1970-01-01 10:49:00</th>\n",
       "      <td>1970-01-01 10:49:00</td>\n",
       "      <td>649</td>\n",
       "    </tr>\n",
       "    <tr>\n",
       "      <th>1969-12-31 23:59:59</th>\n",
       "      <td>1969-12-31 23:59:59</td>\n",
       "      <td>790</td>\n",
       "    </tr>\n",
       "    <tr>\n",
       "      <th>1970-01-01 11:01:00</th>\n",
       "      <td>1970-01-01 11:01:00</td>\n",
       "      <td>661</td>\n",
       "    </tr>\n",
       "    <tr>\n",
       "      <th>1969-12-31 23:59:59</th>\n",
       "      <td>1969-12-31 23:59:59</td>\n",
       "      <td>778</td>\n",
       "    </tr>\n",
       "    <tr>\n",
       "      <th>1970-01-01 11:13:00</th>\n",
       "      <td>1970-01-01 11:13:00</td>\n",
       "      <td>673</td>\n",
       "    </tr>\n",
       "    <tr>\n",
       "      <th>1969-12-31 23:59:59</th>\n",
       "      <td>1969-12-31 23:59:59</td>\n",
       "      <td>766</td>\n",
       "    </tr>\n",
       "    <tr>\n",
       "      <th>1970-01-01 12:01:00</th>\n",
       "      <td>1970-01-01 12:01:00</td>\n",
       "      <td>721</td>\n",
       "    </tr>\n",
       "    <tr>\n",
       "      <th>1969-12-31 23:59:59</th>\n",
       "      <td>1969-12-31 23:59:59</td>\n",
       "      <td>718</td>\n",
       "    </tr>\n",
       "    <tr>\n",
       "      <th>1970-01-01 12:25:00</th>\n",
       "      <td>1970-01-01 12:25:00</td>\n",
       "      <td>745</td>\n",
       "    </tr>\n",
       "    <tr>\n",
       "      <th>1969-12-31 23:59:59</th>\n",
       "      <td>1969-12-31 23:59:59</td>\n",
       "      <td>694</td>\n",
       "    </tr>\n",
       "    <tr>\n",
       "      <th>1970-01-01 12:37:00</th>\n",
       "      <td>1970-01-01 12:37:00</td>\n",
       "      <td>757</td>\n",
       "    </tr>\n",
       "    <tr>\n",
       "      <th>1969-12-31 23:59:59</th>\n",
       "      <td>1969-12-31 23:59:59</td>\n",
       "      <td>682</td>\n",
       "    </tr>\n",
       "    <tr>\n",
       "      <th>1970-01-01 12:49:00</th>\n",
       "      <td>1970-01-01 12:49:00</td>\n",
       "      <td>769</td>\n",
       "    </tr>\n",
       "    <tr>\n",
       "      <th>1969-12-31 23:59:59</th>\n",
       "      <td>1969-12-31 23:59:59</td>\n",
       "      <td>670</td>\n",
       "    </tr>\n",
       "    <tr>\n",
       "      <th>1970-01-01 13:01:00</th>\n",
       "      <td>1970-01-01 13:01:00</td>\n",
       "      <td>781</td>\n",
       "    </tr>\n",
       "    <tr>\n",
       "      <th>1969-12-31 23:59:59</th>\n",
       "      <td>1969-12-31 23:59:59</td>\n",
       "      <td>658</td>\n",
       "    </tr>\n",
       "    <tr>\n",
       "      <th>1970-01-01 13:46:00</th>\n",
       "      <td>1970-01-01 13:46:00</td>\n",
       "      <td>826</td>\n",
       "    </tr>\n",
       "    <tr>\n",
       "      <th>1969-12-31 23:59:59</th>\n",
       "      <td>1969-12-31 23:59:59</td>\n",
       "      <td>613</td>\n",
       "    </tr>\n",
       "    <tr>\n",
       "      <th>1970-01-01 13:58:00</th>\n",
       "      <td>1970-01-01 13:58:00</td>\n",
       "      <td>838</td>\n",
       "    </tr>\n",
       "    <tr>\n",
       "      <th>1969-12-31 23:59:59</th>\n",
       "      <td>1969-12-31 23:59:59</td>\n",
       "      <td>599</td>\n",
       "    </tr>\n",
       "    <tr>\n",
       "      <th>1970-01-01 14:21:00</th>\n",
       "      <td>1970-01-01 14:21:00</td>\n",
       "      <td>861</td>\n",
       "    </tr>\n",
       "    <tr>\n",
       "      <th>...</th>\n",
       "      <td>...</td>\n",
       "      <td>...</td>\n",
       "    </tr>\n",
       "    <tr>\n",
       "      <th>1969-12-31 23:59:59</th>\n",
       "      <td>1969-12-31 23:59:59</td>\n",
       "      <td>494</td>\n",
       "    </tr>\n",
       "    <tr>\n",
       "      <th>1970-01-01 15:54:00</th>\n",
       "      <td>1970-01-01 15:54:00</td>\n",
       "      <td>954</td>\n",
       "    </tr>\n",
       "    <tr>\n",
       "      <th>1969-12-31 23:59:59</th>\n",
       "      <td>1969-12-31 23:59:59</td>\n",
       "      <td>485</td>\n",
       "    </tr>\n",
       "    <tr>\n",
       "      <th>1970-01-01 16:03:00</th>\n",
       "      <td>1970-01-01 16:03:00</td>\n",
       "      <td>963</td>\n",
       "    </tr>\n",
       "    <tr>\n",
       "      <th>1969-12-31 23:59:59</th>\n",
       "      <td>1969-12-31 23:59:59</td>\n",
       "      <td>476</td>\n",
       "    </tr>\n",
       "    <tr>\n",
       "      <th>1970-01-01 16:12:00</th>\n",
       "      <td>1970-01-01 16:12:00</td>\n",
       "      <td>972</td>\n",
       "    </tr>\n",
       "    <tr>\n",
       "      <th>1969-12-31 23:59:59</th>\n",
       "      <td>1969-12-31 23:59:59</td>\n",
       "      <td>467</td>\n",
       "    </tr>\n",
       "    <tr>\n",
       "      <th>1970-01-01 16:21:00</th>\n",
       "      <td>1970-01-01 16:21:00</td>\n",
       "      <td>981</td>\n",
       "    </tr>\n",
       "    <tr>\n",
       "      <th>1969-12-31 23:59:59</th>\n",
       "      <td>1969-12-31 23:59:59</td>\n",
       "      <td>458</td>\n",
       "    </tr>\n",
       "    <tr>\n",
       "      <th>1970-01-01 16:30:00</th>\n",
       "      <td>1970-01-01 16:30:00</td>\n",
       "      <td>990</td>\n",
       "    </tr>\n",
       "    <tr>\n",
       "      <th>1969-12-31 23:59:59</th>\n",
       "      <td>1969-12-31 23:59:59</td>\n",
       "      <td>449</td>\n",
       "    </tr>\n",
       "    <tr>\n",
       "      <th>1970-01-01 16:39:00</th>\n",
       "      <td>1970-01-01 16:39:00</td>\n",
       "      <td>999</td>\n",
       "    </tr>\n",
       "    <tr>\n",
       "      <th>1969-12-31 23:59:59</th>\n",
       "      <td>1969-12-31 23:59:59</td>\n",
       "      <td>440</td>\n",
       "    </tr>\n",
       "    <tr>\n",
       "      <th>1970-01-01 16:48:00</th>\n",
       "      <td>1970-01-01 16:48:00</td>\n",
       "      <td>1008</td>\n",
       "    </tr>\n",
       "    <tr>\n",
       "      <th>1969-12-31 23:59:59</th>\n",
       "      <td>1969-12-31 23:59:59</td>\n",
       "      <td>431</td>\n",
       "    </tr>\n",
       "    <tr>\n",
       "      <th>1970-01-01 16:57:00</th>\n",
       "      <td>1970-01-01 16:57:00</td>\n",
       "      <td>1017</td>\n",
       "    </tr>\n",
       "    <tr>\n",
       "      <th>1969-12-31 23:59:59</th>\n",
       "      <td>1969-12-31 23:59:59</td>\n",
       "      <td>422</td>\n",
       "    </tr>\n",
       "    <tr>\n",
       "      <th>1970-01-01 17:06:00</th>\n",
       "      <td>1970-01-01 17:06:00</td>\n",
       "      <td>1026</td>\n",
       "    </tr>\n",
       "    <tr>\n",
       "      <th>1969-12-31 23:59:59</th>\n",
       "      <td>1969-12-31 23:59:59</td>\n",
       "      <td>413</td>\n",
       "    </tr>\n",
       "    <tr>\n",
       "      <th>1970-01-01 17:15:00</th>\n",
       "      <td>1970-01-01 17:15:00</td>\n",
       "      <td>1035</td>\n",
       "    </tr>\n",
       "    <tr>\n",
       "      <th>1969-12-31 23:59:59</th>\n",
       "      <td>1969-12-31 23:59:59</td>\n",
       "      <td>404</td>\n",
       "    </tr>\n",
       "    <tr>\n",
       "      <th>1970-01-01 17:25:00</th>\n",
       "      <td>1970-01-01 17:25:00</td>\n",
       "      <td>1045</td>\n",
       "    </tr>\n",
       "    <tr>\n",
       "      <th>1969-12-31 23:59:59</th>\n",
       "      <td>1969-12-31 23:59:59</td>\n",
       "      <td>394</td>\n",
       "    </tr>\n",
       "    <tr>\n",
       "      <th>1970-01-01 17:34:00</th>\n",
       "      <td>1970-01-01 17:34:00</td>\n",
       "      <td>1054</td>\n",
       "    </tr>\n",
       "    <tr>\n",
       "      <th>1969-12-31 23:59:59</th>\n",
       "      <td>1969-12-31 23:59:59</td>\n",
       "      <td>376</td>\n",
       "    </tr>\n",
       "    <tr>\n",
       "      <th>1970-01-01 17:55:00</th>\n",
       "      <td>1970-01-01 17:55:00</td>\n",
       "      <td>1075</td>\n",
       "    </tr>\n",
       "    <tr>\n",
       "      <th>1969-12-31 23:59:59</th>\n",
       "      <td>1969-12-31 23:59:59</td>\n",
       "      <td>352</td>\n",
       "    </tr>\n",
       "    <tr>\n",
       "      <th>1970-01-01 18:04:00</th>\n",
       "      <td>1970-01-01 18:04:00</td>\n",
       "      <td>1084</td>\n",
       "    </tr>\n",
       "    <tr>\n",
       "      <th>1969-12-31 23:59:59</th>\n",
       "      <td>1969-12-31 23:59:59</td>\n",
       "      <td>355</td>\n",
       "    </tr>\n",
       "    <tr>\n",
       "      <th>1970-01-01 18:15:00</th>\n",
       "      <td>1970-01-01 18:15:00</td>\n",
       "      <td>1095</td>\n",
       "    </tr>\n",
       "  </tbody>\n",
       "</table>\n",
       "<p>268 rows × 2 columns</p>\n",
       "</div>"
      ],
      "text/plain": [
       "                                   time  freq\n",
       "time                                         \n",
       "1969-12-31 23:59:59 1969-12-31 23:59:59   896\n",
       "1970-01-01 09:13:00 1970-01-01 09:13:00   553\n",
       "1969-12-31 23:59:59 1969-12-31 23:59:59   886\n",
       "1970-01-01 09:25:00 1970-01-01 09:25:00   565\n",
       "1969-12-31 23:59:59 1969-12-31 23:59:59   874\n",
       "1970-01-01 10:13:00 1970-01-01 10:13:00   613\n",
       "1969-12-31 23:59:59 1969-12-31 23:59:59   826\n",
       "1970-01-01 10:37:00 1970-01-01 10:37:00   637\n",
       "1969-12-31 23:59:59 1969-12-31 23:59:59   802\n",
       "1970-01-01 10:49:00 1970-01-01 10:49:00   649\n",
       "1969-12-31 23:59:59 1969-12-31 23:59:59   790\n",
       "1970-01-01 11:01:00 1970-01-01 11:01:00   661\n",
       "1969-12-31 23:59:59 1969-12-31 23:59:59   778\n",
       "1970-01-01 11:13:00 1970-01-01 11:13:00   673\n",
       "1969-12-31 23:59:59 1969-12-31 23:59:59   766\n",
       "1970-01-01 12:01:00 1970-01-01 12:01:00   721\n",
       "1969-12-31 23:59:59 1969-12-31 23:59:59   718\n",
       "1970-01-01 12:25:00 1970-01-01 12:25:00   745\n",
       "1969-12-31 23:59:59 1969-12-31 23:59:59   694\n",
       "1970-01-01 12:37:00 1970-01-01 12:37:00   757\n",
       "1969-12-31 23:59:59 1969-12-31 23:59:59   682\n",
       "1970-01-01 12:49:00 1970-01-01 12:49:00   769\n",
       "1969-12-31 23:59:59 1969-12-31 23:59:59   670\n",
       "1970-01-01 13:01:00 1970-01-01 13:01:00   781\n",
       "1969-12-31 23:59:59 1969-12-31 23:59:59   658\n",
       "1970-01-01 13:46:00 1970-01-01 13:46:00   826\n",
       "1969-12-31 23:59:59 1969-12-31 23:59:59   613\n",
       "1970-01-01 13:58:00 1970-01-01 13:58:00   838\n",
       "1969-12-31 23:59:59 1969-12-31 23:59:59   599\n",
       "1970-01-01 14:21:00 1970-01-01 14:21:00   861\n",
       "...                                 ...   ...\n",
       "1969-12-31 23:59:59 1969-12-31 23:59:59   494\n",
       "1970-01-01 15:54:00 1970-01-01 15:54:00   954\n",
       "1969-12-31 23:59:59 1969-12-31 23:59:59   485\n",
       "1970-01-01 16:03:00 1970-01-01 16:03:00   963\n",
       "1969-12-31 23:59:59 1969-12-31 23:59:59   476\n",
       "1970-01-01 16:12:00 1970-01-01 16:12:00   972\n",
       "1969-12-31 23:59:59 1969-12-31 23:59:59   467\n",
       "1970-01-01 16:21:00 1970-01-01 16:21:00   981\n",
       "1969-12-31 23:59:59 1969-12-31 23:59:59   458\n",
       "1970-01-01 16:30:00 1970-01-01 16:30:00   990\n",
       "1969-12-31 23:59:59 1969-12-31 23:59:59   449\n",
       "1970-01-01 16:39:00 1970-01-01 16:39:00   999\n",
       "1969-12-31 23:59:59 1969-12-31 23:59:59   440\n",
       "1970-01-01 16:48:00 1970-01-01 16:48:00  1008\n",
       "1969-12-31 23:59:59 1969-12-31 23:59:59   431\n",
       "1970-01-01 16:57:00 1970-01-01 16:57:00  1017\n",
       "1969-12-31 23:59:59 1969-12-31 23:59:59   422\n",
       "1970-01-01 17:06:00 1970-01-01 17:06:00  1026\n",
       "1969-12-31 23:59:59 1969-12-31 23:59:59   413\n",
       "1970-01-01 17:15:00 1970-01-01 17:15:00  1035\n",
       "1969-12-31 23:59:59 1969-12-31 23:59:59   404\n",
       "1970-01-01 17:25:00 1970-01-01 17:25:00  1045\n",
       "1969-12-31 23:59:59 1969-12-31 23:59:59   394\n",
       "1970-01-01 17:34:00 1970-01-01 17:34:00  1054\n",
       "1969-12-31 23:59:59 1969-12-31 23:59:59   376\n",
       "1970-01-01 17:55:00 1970-01-01 17:55:00  1075\n",
       "1969-12-31 23:59:59 1969-12-31 23:59:59   352\n",
       "1970-01-01 18:04:00 1970-01-01 18:04:00  1084\n",
       "1969-12-31 23:59:59 1969-12-31 23:59:59   355\n",
       "1970-01-01 18:15:00 1970-01-01 18:15:00  1095\n",
       "\n",
       "[268 rows x 2 columns]"
      ]
     },
     "execution_count": 52,
     "metadata": {},
     "output_type": "execute_result"
    }
   ],
   "source": [
    "freq_dict['route_30'][freq_dict['route_30']['freq'] > 100]"
   ]
  },
  {
   "cell_type": "markdown",
   "metadata": {},
   "source": [
    "Next: run over **all** routes, just pull indiscriminantly from database, compute freqs, then do tasks below"
   ]
  },
  {
   "cell_type": "markdown",
   "metadata": {},
   "source": [
    "Add the column that decides whether or not bunching occurs"
   ]
  },
  {
   "cell_type": "code",
   "execution_count": 58,
   "metadata": {
    "collapsed": true
   },
   "outputs": [],
   "source": [
    "def pass_threshold(percentile):\n",
    "    if percentile >= 0.8:\n",
    "        return 1\n",
    "    else:\n",
    "        return 0\n",
    "\n",
    "bunched_scores=map(pass_threshold,np.convolve(df_all['dist_percentile'],[1,1,1,1,1,1,1])/7)\n",
    "# Take off first (7-1)/2 = 3 and last 3\n",
    "bunched_scores=bunched_scores[3:]\n",
    "bunched_scores=bunched_scores[:-3]\n",
    "\n",
    "df_all['bunched'] = bunched_scores"
   ]
  },
  {
   "cell_type": "code",
   "execution_count": 59,
   "metadata": {
    "collapsed": false
   },
   "outputs": [
    {
     "data": {
      "text/plain": [
       "0    205635\n",
       "1     37835\n",
       "Name: bunched, dtype: int64"
      ]
     },
     "execution_count": 59,
     "metadata": {},
     "output_type": "execute_result"
    }
   ],
   "source": [
    "df_all['bunched'].value_counts()"
   ]
  },
  {
   "cell_type": "code",
   "execution_count": 407,
   "metadata": {
    "collapsed": false
   },
   "outputs": [],
   "source": [
    "cor_mat = df_all.corr()"
   ]
  },
  {
   "cell_type": "code",
   "execution_count": 408,
   "metadata": {
    "collapsed": false
   },
   "outputs": [
    {
     "data": {
      "image/png": "[encoded data removed]",
      "text/plain": [
       "<matplotlib.figure.Figure at 0x1478f0d10>"
      ]
     },
     "metadata": {},
     "output_type": "display_data"
    }
   ],
   "source": [
    "plt.pcolor(cor_mat)\n",
    "plt.yticks(np.arange(0.5, len(cor_mat.index), 1), cor_mat.index)\n",
    "plt.xticks(np.arange(0.5, len(cor_mat.columns), 1), cor_mat.columns)\n",
    "plt.show()\n"
   ]
  },
  {
   "cell_type": "code",
   "execution_count": 410,
   "metadata": {
    "collapsed": false
   },
   "outputs": [
    {
     "data": {
      "text/plain": [
       "<matplotlib.axes._subplots.AxesSubplot at 0x144b32510>"
      ]
     },
     "execution_count": 410,
     "metadata": {},
     "output_type": "execute_result"
    },
    {
     "data": {
      "image/png": "[encoded data removed]",
      "text/plain": [
       "<matplotlib.figure.Figure at 0x144b15e90>"
      ]
     },
     "metadata": {},
     "output_type": "display_data"
    }
   ],
   "source": [
    "sns.heatmap(cor_mat)"
   ]
  },
  {
   "cell_type": "markdown",
   "metadata": {},
   "source": [
    "Write to the SQL database"
   ]
  },
  {
   "cell_type": "code",
   "execution_count": null,
   "metadata": {
    "collapsed": false,
    "scrolled": false
   },
   "outputs": [],
   "source": [
    "df_all.to_sql('vehicle_pairs_2016_01_15', engine, if_exists='replace')"
   ]
  },
  {
   "cell_type": "markdown",
   "metadata": {},
   "source": [
    "## Perform random forest fit"
   ]
  },
  {
   "cell_type": "code",
   "execution_count": 60,
   "metadata": {
    "collapsed": true
   },
   "outputs": [],
   "source": [
    "from sklearn.ensemble import RandomForestClassifier\n",
    "# Create the random forest object which will include all the parameters\n",
    "# for the fit\n",
    "forest = RandomForestClassifier(n_estimators = 250)"
   ]
  },
  {
   "cell_type": "markdown",
   "metadata": {},
   "source": [
    "Separate the data into training and testing"
   ]
  },
  {
   "cell_type": "code",
   "execution_count": 177,
   "metadata": {
    "collapsed": true
   },
   "outputs": [],
   "source": [
    "# Reserve 0.4 of data for testing\n",
    "test_data = df_all.sample(frac=0.4, replace=False)\n",
    "# 0.6 for training\n",
    "train_data = df_all.loc[df_for_fit.index.isin(test.index)]"
   ]
  },
  {
   "cell_type": "markdown",
   "metadata": {},
   "source": [
    "For the y training data, we just take the 'bunched' column and flatten it\n",
    "For the x training data, we use dmatrices, as usual.\n",
    "\n",
    "Note we use the mysterious patsy 'formula' to select the features we want to fit against."
   ]
  },
  {
   "cell_type": "code",
   "execution_count": 196,
   "metadata": {
    "collapsed": false
   },
   "outputs": [],
   "source": [
    "formula_tmp = 'bunched ~ C(route_x) + time.dt.hour + time.dt.minute + lat_x + lon_x + speed_x + lat_y + lon_y + speed_y + dist_percentile'\n",
    "\n",
    "ytmp, xtmp = patsy.dmatrices(formula_tmp, data=train_data[0:1], return_type='dataframe')"
   ]
  },
  {
   "cell_type": "code",
   "execution_count": 197,
   "metadata": {
    "collapsed": false
   },
   "outputs": [
    {
     "data": {
      "text/html": [
       "<div>\n",
       "<table border=\"1\" class=\"dataframe\">\n",
       "  <thead>\n",
       "    <tr style=\"text-align: right;\">\n",
       "      <th></th>\n",
       "      <th>Intercept</th>\n",
       "      <th>time.dt.hour</th>\n",
       "      <th>time.dt.minute</th>\n",
       "      <th>lat_x</th>\n",
       "      <th>lon_x</th>\n",
       "      <th>speed_x</th>\n",
       "      <th>lat_y</th>\n",
       "      <th>lon_y</th>\n",
       "      <th>speed_y</th>\n",
       "      <th>dist_percentile</th>\n",
       "    </tr>\n",
       "  </thead>\n",
       "  <tbody>\n",
       "    <tr>\n",
       "      <th>0</th>\n",
       "      <td>1</td>\n",
       "      <td>0</td>\n",
       "      <td>10</td>\n",
       "      <td>37.79203</td>\n",
       "      <td>-122.48172</td>\n",
       "      <td>0</td>\n",
       "      <td>37.71993</td>\n",
       "      <td>-122.47606</td>\n",
       "      <td>4.72222</td>\n",
       "      <td>0.125471</td>\n",
       "    </tr>\n",
       "  </tbody>\n",
       "</table>\n",
       "</div>"
      ],
      "text/plain": [
       "   Intercept  time.dt.hour  time.dt.minute     lat_x      lon_x  speed_x  \\\n",
       "0          1             0              10  37.79203 -122.48172        0   \n",
       "\n",
       "      lat_y      lon_y  speed_y  dist_percentile  \n",
       "0  37.71993 -122.47606  4.72222         0.125471  "
      ]
     },
     "execution_count": 197,
     "metadata": {},
     "output_type": "execute_result"
    }
   ],
   "source": [
    "xtmp.head()"
   ]
  },
  {
   "cell_type": "code",
   "execution_count": 62,
   "metadata": {
    "collapsed": true
   },
   "outputs": [],
   "source": [
    "import patsy\n",
    "from sklearn import cross_validation, metrics, linear_model, svm"
   ]
  },
  {
   "cell_type": "markdown",
   "metadata": {},
   "source": [
    "**Taking out categorical variable for now on route_x-- but this should definitely be included once I learn to include this with individual points**\n",
    "\n",
    "(One trick when computing probs on individual points would be to add dummy rows that iterate over all routes, so all categories are there, then only take the prediction on the first row)"
   ]
  },
  {
   "cell_type": "code",
   "execution_count": 322,
   "metadata": {
    "collapsed": false
   },
   "outputs": [],
   "source": [
    "#formula = 'bunched ~ time.dt.hour + time.dt.minute + lat_x + lon_x + speed_x + C(route_x) + lat_y + lon_y + speed_y + dist_percentile'\n",
    "formula = 'bunched ~ time.dt.hour + time.dt.minute + lat_x + lon_x + speed_x  + lat_y + lon_y + speed_y + dist_percentile'\n",
    "\n",
    "\n",
    "# do with the training data\n",
    "ytrain, xtrain = patsy.dmatrices(formula, data=train_data, return_type='dataframe')\n",
    "ytrain = np.asarray(ytrain).ravel()\n",
    "\n",
    "# same with the test data\n",
    "ytest, xtest = patsy.dmatrices(formula, data=test_data, return_type='dataframe')\n",
    "ytest = np.asarray(ytest).ravel()"
   ]
  },
  {
   "cell_type": "code",
   "execution_count": 323,
   "metadata": {
    "collapsed": false
   },
   "outputs": [],
   "source": [
    "# Fit the training data to the Survived labels and create the decision trees\n",
    "forest = forest.fit(xtrain,ytrain)\n",
    "\n",
    "# Take the same decision trees and run it on the test data\n",
    "#output = forest.predict(test_data)"
   ]
  },
  {
   "cell_type": "markdown",
   "metadata": {},
   "source": [
    "Let's look at the accuracy and compute the ROC"
   ]
  },
  {
   "cell_type": "code",
   "execution_count": 324,
   "metadata": {
    "collapsed": false
   },
   "outputs": [
    {
     "name": "stdout",
     "output_type": "stream",
     "text": [
      "[ 0.94130935  0.93867828  0.93071015  0.92931077]\n",
      "Average accuracy on cross-validated training set: 0.935 ± 0.005\n"
     ]
    }
   ],
   "source": [
    "# cv = 'cross-validations' = 'no. of k-foldings to do' in the language I used above\n",
    "scores_train = cross_validation.cross_val_score(forest, xtrain, ytrain, cv=4)\n",
    "print scores_train\n",
    "# With 68% CLs on the accuracy\n",
    "print 'Average accuracy on cross-validated training set: %0.3f ± %0.3f' % (scores_train.mean(),scores_train.std())"
   ]
  },
  {
   "cell_type": "markdown",
   "metadata": {},
   "source": [
    "Now measure accuracy on the test set:"
   ]
  },
  {
   "cell_type": "code",
   "execution_count": 325,
   "metadata": {
    "collapsed": true
   },
   "outputs": [],
   "source": [
    "predictions_cv = cross_validation.cross_val_predict(forest, xtest, ytest, cv=4)\n",
    "predictions = forest.predict_proba(xtest) "
   ]
  },
  {
   "cell_type": "code",
   "execution_count": 326,
   "metadata": {
    "collapsed": false
   },
   "outputs": [
    {
     "name": "stdout",
     "output_type": "stream",
     "text": [
      "Accuracy on test data: 0.947\n"
     ]
    }
   ],
   "source": [
    "score_test = metrics.accuracy_score(ytest, predictions_cv)\n",
    "print 'Accuracy on test data: %0.3f' % score_test"
   ]
  },
  {
   "cell_type": "markdown",
   "metadata": {},
   "source": [
    "And finally a pretty ROC:"
   ]
  },
  {
   "cell_type": "code",
   "execution_count": 327,
   "metadata": {
    "collapsed": false,
    "scrolled": false
   },
   "outputs": [
    {
     "data": {
      "text/plain": [
       "<matplotlib.legend.Legend at 0x14586ce50>"
      ]
     },
     "execution_count": 327,
     "metadata": {},
     "output_type": "execute_result"
    },
    {
     "data": {
      "image/png": "[encoded data removed]",
      "text/plain": [
       "<matplotlib.figure.Figure at 0x1191a50d0>"
      ]
     },
     "metadata": {},
     "output_type": "display_data"
    }
   ],
   "source": [
    "fpr_rf, tpr_rf, thresholds = metrics.roc_curve(ytest, predictions[:,1])\n",
    "roc_auc_rf = metrics.auc(fpr_rf,tpr_rf)\n",
    "f, a = plt.subplots()\n",
    "f.set_size_inches(10,7)\n",
    "\n",
    "a.plot(fpr_rf, tpr_rf, label='ROC curve for RandomForest (area under curve = %0.3f)' % roc_auc_rf)\n",
    "# The 50/50 fpr/tpr line\n",
    "a.plot([0,1],[0,1],'k--', label='Random chance predictor')\n",
    "a.set_xlim(0.0,1.0)\n",
    "a.set_ylim(0.0,1.05)\n",
    "a.set_xlabel('False positive rate')\n",
    "a.set_ylabel('True positive rate')\n",
    "a.legend(loc='lower right')"
   ]
  },
  {
   "cell_type": "code",
   "execution_count": 328,
   "metadata": {
    "collapsed": true
   },
   "outputs": [],
   "source": [
    "f.savefig('roc_rf_2016_01_21.png')"
   ]
  },
  {
   "cell_type": "markdown",
   "metadata": {},
   "source": [
    "We can check to see which feature was most important"
   ]
  },
  {
   "cell_type": "code",
   "execution_count": 329,
   "metadata": {
    "collapsed": false
   },
   "outputs": [
    {
     "data": {
      "text/plain": [
       "Intercept            1.000000\n",
       "time.dt.hour         0.000000\n",
       "time.dt.minute      12.000000\n",
       "lat_x               37.787700\n",
       "lon_x             -122.484060\n",
       "speed_x             14.722200\n",
       "lat_y               37.721580\n",
       "lon_y             -122.472390\n",
       "speed_y              6.388890\n",
       "dist_percentile      0.144539\n",
       "Name: 1, dtype: float64"
      ]
     },
     "execution_count": 329,
     "metadata": {},
     "output_type": "execute_result"
    }
   ],
   "source": [
    "xtrain.iloc[1]"
   ]
  },
  {
   "cell_type": "code",
   "execution_count": 330,
   "metadata": {
    "collapsed": false
   },
   "outputs": [
    {
     "data": {
      "image/png": "[encoded data removed]",
      "text/plain": [
       "<matplotlib.figure.Figure at 0x145876550>"
      ]
     },
     "metadata": {},
     "output_type": "display_data"
    }
   ],
   "source": [
    "importances = forest.feature_importances_\n",
    "std = np.std([tree.feature_importances_ for tree in forest.estimators_],\n",
    "             axis=0)\n",
    "indices = np.argsort(importances)[::-1]\n",
    "#print indices\n",
    "\n",
    "# # Print the feature ranking\n",
    "# print(\"Feature ranking:\")\n",
    "\n",
    "# for f in range(X.shape[1]):\n",
    "#     print(\"%d. feature %d (%f)\" % (f + 1, indices[f], importances[indices[f]]))\n",
    "\n",
    "# Plot the feature importances of the forest\n",
    "yerr=std[indices][:7]\n",
    "heights= importances[indices][:7]\n",
    "indices = indices[:7]\n",
    "plt.figure()\n",
    "plt.title(\"Feature importances\")\n",
    "plt.bar(range(7), heights ,\n",
    "       color=\"r\", yerr=yerr, align=\"center\")\n",
    "#plt.xticks(range(xtrain.shape[1]), indices)\n",
    "plt.xticks(range(len(indices)), indices)\n",
    "#plt.xlim([-1, xtrain.shape[1]])\n",
    "#plt.xlim([-1, 8])\n",
    "plt.show()"
   ]
  },
  {
   "cell_type": "code",
   "execution_count": 331,
   "metadata": {
    "collapsed": false
   },
   "outputs": [
    {
     "data": {
      "text/plain": [
       "<matplotlib.figure.Figure at 0x147ea9210>"
      ]
     },
     "metadata": {},
     "output_type": "display_data"
    }
   ],
   "source": [
    "plt.savefig('feature_importance_rf_2016_01_21.png')"
   ]
  },
  {
   "cell_type": "markdown",
   "metadata": {},
   "source": [
    "Saving the RF fit to disk, use pickle:\n",
    "\n",
    "with open('name.pickle','wb') as f:\n",
    "   pickle.dump(obj, f)"
   ]
  },
  {
   "cell_type": "code",
   "execution_count": 332,
   "metadata": {
    "collapsed": true
   },
   "outputs": [],
   "source": [
    "import pickle"
   ]
  },
  {
   "cell_type": "code",
   "execution_count": 333,
   "metadata": {
    "collapsed": false
   },
   "outputs": [],
   "source": [
    "with open('rf_fit_2016_01_21.pkl','wb') as output:\n",
    "    pickle.dump(forest, output, pickle.HIGHEST_PROTOCOL)\n",
    "    \n",
    "# and when I want it later\n",
    "with open('rf_fit_2016_01_21.pkl','rb') as input:\n",
    "    forest = pickle.load(input)"
   ]
  }
 ],
 "metadata": {
  "kernelspec": {
   "display_name": "Python 2",
   "language": "python",
   "name": "python2"
  },
  "language_info": {
   "codemirror_mode": {
    "name": "ipython",
    "version": 2
   },
   "file_extension": ".py",
   "mimetype": "text/x-python",
   "name": "python",
   "nbconvert_exporter": "python",
   "pygments_lexer": "ipython2",
   "version": "2.7.10"
  }
 },
 "nbformat": 4,
 "nbformat_minor": 0
}
